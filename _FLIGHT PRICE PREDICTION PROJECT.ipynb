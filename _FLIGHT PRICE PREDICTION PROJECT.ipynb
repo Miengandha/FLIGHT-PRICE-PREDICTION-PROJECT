{
 "cells": [
  {
   "cell_type": "markdown",
   "id": "3befc0fa",
   "metadata": {},
   "source": [
    "# FLIGHT PRICE PREDICTION PROJECT"
   ]
  },
  {
   "cell_type": "markdown",
   "id": "e5450aa0",
   "metadata": {},
   "source": [
    "IMPORTING LIBRARIES"
   ]
  },
  {
   "cell_type": "code",
   "execution_count": 1,
   "id": "a60ac8f2",
   "metadata": {},
   "outputs": [],
   "source": [
    "import pandas as pd\n",
    "import numpy as np\n",
    "import matplotlib.pyplot as plt\n",
    "%matplotlib inline\n",
    "import seaborn as sns\n",
    "from sklearn.linear_model import LinearRegression\n",
    "from sklearn.model_selection import train_test_split\n",
    "import pickle\n",
    "from sklearn.datasets import make_classification\n",
    "from sklearn.linear_model import LogisticRegression\n",
    "from sklearn.metrics import f1_score\n",
    "\n",
    "import warnings\n",
    "warnings.filterwarnings('ignore')"
   ]
  },
  {
   "cell_type": "markdown",
   "id": "b3d450a8",
   "metadata": {},
   "source": [
    "Read the Datasets"
   ]
  },
  {
   "cell_type": "code",
   "execution_count": 2,
   "id": "dab15424",
   "metadata": {},
   "outputs": [
    {
     "data": {
      "text/html": [
       "<div>\n",
       "<style scoped>\n",
       "    .dataframe tbody tr th:only-of-type {\n",
       "        vertical-align: middle;\n",
       "    }\n",
       "\n",
       "    .dataframe tbody tr th {\n",
       "        vertical-align: top;\n",
       "    }\n",
       "\n",
       "    .dataframe thead th {\n",
       "        text-align: right;\n",
       "    }\n",
       "</style>\n",
       "<table border=\"1\" class=\"dataframe\">\n",
       "  <thead>\n",
       "    <tr style=\"text-align: right;\">\n",
       "      <th></th>\n",
       "      <th>Unnamed: 0</th>\n",
       "      <th>Airline Company</th>\n",
       "      <th>Flight Code</th>\n",
       "      <th>Departure Time</th>\n",
       "      <th>Source City</th>\n",
       "      <th>Arrival Time</th>\n",
       "      <th>Destination City</th>\n",
       "      <th>Duration</th>\n",
       "      <th>Total Stops</th>\n",
       "      <th>Price</th>\n",
       "    </tr>\n",
       "  </thead>\n",
       "  <tbody>\n",
       "    <tr>\n",
       "      <th>0</th>\n",
       "      <td>0</td>\n",
       "      <td>Air India</td>\n",
       "      <td>-6238/5371</td>\n",
       "      <td>08:30</td>\n",
       "      <td>New Delhi</td>\n",
       "      <td>14:45</td>\n",
       "      <td>Mumbai</td>\n",
       "      <td>6h 15m</td>\n",
       "      <td>1 Stop</td>\n",
       "      <td>29,255</td>\n",
       "    </tr>\n",
       "    <tr>\n",
       "      <th>1</th>\n",
       "      <td>1</td>\n",
       "      <td>Air India</td>\n",
       "      <td>-6238/5371</td>\n",
       "      <td>08:30</td>\n",
       "      <td>New Delhi</td>\n",
       "      <td>14:45</td>\n",
       "      <td>Mumbai</td>\n",
       "      <td>6h 15m</td>\n",
       "      <td>1 Stop</td>\n",
       "      <td>29,255</td>\n",
       "    </tr>\n",
       "    <tr>\n",
       "      <th>2</th>\n",
       "      <td>2</td>\n",
       "      <td>Air India</td>\n",
       "      <td>-6238/5371</td>\n",
       "      <td>08:30</td>\n",
       "      <td>New Delhi</td>\n",
       "      <td>14:45</td>\n",
       "      <td>Mumbai</td>\n",
       "      <td>6h 15m</td>\n",
       "      <td>1 Stop</td>\n",
       "      <td>29,255</td>\n",
       "    </tr>\n",
       "    <tr>\n",
       "      <th>3</th>\n",
       "      <td>3</td>\n",
       "      <td>Air India</td>\n",
       "      <td>-6238/5371</td>\n",
       "      <td>08:30</td>\n",
       "      <td>New Delhi</td>\n",
       "      <td>14:45</td>\n",
       "      <td>Mumbai</td>\n",
       "      <td>6h 15m</td>\n",
       "      <td>1 Stop</td>\n",
       "      <td>29,255</td>\n",
       "    </tr>\n",
       "    <tr>\n",
       "      <th>4</th>\n",
       "      <td>4</td>\n",
       "      <td>Air India</td>\n",
       "      <td>-6238/5371</td>\n",
       "      <td>08:30</td>\n",
       "      <td>New Delhi</td>\n",
       "      <td>14:45</td>\n",
       "      <td>Mumbai</td>\n",
       "      <td>6h 15m</td>\n",
       "      <td>1 Stop</td>\n",
       "      <td>29,255</td>\n",
       "    </tr>\n",
       "  </tbody>\n",
       "</table>\n",
       "</div>"
      ],
      "text/plain": [
       "   Unnamed: 0 Airline Company Flight Code Departure Time Source City  \\\n",
       "0           0       Air India  -6238/5371          08:30   New Delhi   \n",
       "1           1       Air India  -6238/5371          08:30   New Delhi   \n",
       "2           2       Air India  -6238/5371          08:30   New Delhi   \n",
       "3           3       Air India  -6238/5371          08:30   New Delhi   \n",
       "4           4       Air India  -6238/5371          08:30   New Delhi   \n",
       "\n",
       "  Arrival Time Destination City Duration Total Stops   Price  \n",
       "0        14:45           Mumbai   6h 15m      1 Stop  29,255  \n",
       "1        14:45           Mumbai   6h 15m      1 Stop  29,255  \n",
       "2        14:45           Mumbai   6h 15m      1 Stop  29,255  \n",
       "3        14:45           Mumbai   6h 15m      1 Stop  29,255  \n",
       "4        14:45           Mumbai   6h 15m      1 Stop  29,255  "
      ]
     },
     "execution_count": 2,
     "metadata": {},
     "output_type": "execute_result"
    }
   ],
   "source": [
    "df=pd.read_csv(r'C:/Users/user/Desktop/FRTech Internship Project/FLIGHT PRICE CASE STUDY/flight price prediction.csv')\n",
    "df.head()"
   ]
  },
  {
   "cell_type": "code",
   "execution_count": 3,
   "id": "a8e1cb4d",
   "metadata": {},
   "outputs": [
    {
     "name": "stdout",
     "output_type": "stream",
     "text": [
      "<class 'pandas.core.frame.DataFrame'>\n",
      "RangeIndex: 144 entries, 0 to 143\n",
      "Data columns (total 10 columns):\n",
      " #   Column            Non-Null Count  Dtype \n",
      "---  ------            --------------  ----- \n",
      " 0   Unnamed: 0        144 non-null    int64 \n",
      " 1   Airline Company   144 non-null    object\n",
      " 2   Flight Code       144 non-null    object\n",
      " 3   Departure Time    144 non-null    object\n",
      " 4   Source City       144 non-null    object\n",
      " 5   Arrival Time      144 non-null    object\n",
      " 6   Destination City  144 non-null    object\n",
      " 7   Duration          144 non-null    object\n",
      " 8   Total Stops       144 non-null    object\n",
      " 9   Price             144 non-null    object\n",
      "dtypes: int64(1), object(9)\n",
      "memory usage: 11.4+ KB\n"
     ]
    }
   ],
   "source": [
    "df.info()"
   ]
  },
  {
   "cell_type": "code",
   "execution_count": 4,
   "id": "47b6298d",
   "metadata": {},
   "outputs": [
    {
     "data": {
      "text/html": [
       "<div>\n",
       "<style scoped>\n",
       "    .dataframe tbody tr th:only-of-type {\n",
       "        vertical-align: middle;\n",
       "    }\n",
       "\n",
       "    .dataframe tbody tr th {\n",
       "        vertical-align: top;\n",
       "    }\n",
       "\n",
       "    .dataframe thead th {\n",
       "        text-align: right;\n",
       "    }\n",
       "</style>\n",
       "<table border=\"1\" class=\"dataframe\">\n",
       "  <thead>\n",
       "    <tr style=\"text-align: right;\">\n",
       "      <th></th>\n",
       "      <th>Unnamed: 0</th>\n",
       "    </tr>\n",
       "  </thead>\n",
       "  <tbody>\n",
       "    <tr>\n",
       "      <th>count</th>\n",
       "      <td>144.000000</td>\n",
       "    </tr>\n",
       "    <tr>\n",
       "      <th>mean</th>\n",
       "      <td>71.500000</td>\n",
       "    </tr>\n",
       "    <tr>\n",
       "      <th>std</th>\n",
       "      <td>41.713307</td>\n",
       "    </tr>\n",
       "    <tr>\n",
       "      <th>min</th>\n",
       "      <td>0.000000</td>\n",
       "    </tr>\n",
       "    <tr>\n",
       "      <th>25%</th>\n",
       "      <td>35.750000</td>\n",
       "    </tr>\n",
       "    <tr>\n",
       "      <th>50%</th>\n",
       "      <td>71.500000</td>\n",
       "    </tr>\n",
       "    <tr>\n",
       "      <th>75%</th>\n",
       "      <td>107.250000</td>\n",
       "    </tr>\n",
       "    <tr>\n",
       "      <th>max</th>\n",
       "      <td>143.000000</td>\n",
       "    </tr>\n",
       "  </tbody>\n",
       "</table>\n",
       "</div>"
      ],
      "text/plain": [
       "       Unnamed: 0\n",
       "count  144.000000\n",
       "mean    71.500000\n",
       "std     41.713307\n",
       "min      0.000000\n",
       "25%     35.750000\n",
       "50%     71.500000\n",
       "75%    107.250000\n",
       "max    143.000000"
      ]
     },
     "execution_count": 4,
     "metadata": {},
     "output_type": "execute_result"
    }
   ],
   "source": [
    "df.describe()"
   ]
  },
  {
   "cell_type": "code",
   "execution_count": 5,
   "id": "d062714b",
   "metadata": {},
   "outputs": [],
   "source": [
    "df=df.drop('Unnamed: 0', axis=1)"
   ]
  },
  {
   "cell_type": "code",
   "execution_count": 6,
   "id": "a9ceebca",
   "metadata": {},
   "outputs": [
    {
     "data": {
      "text/plain": [
       "(144, 9)"
      ]
     },
     "execution_count": 6,
     "metadata": {},
     "output_type": "execute_result"
    }
   ],
   "source": [
    "df.shape"
   ]
  },
  {
   "cell_type": "code",
   "execution_count": 7,
   "id": "8d41927e",
   "metadata": {},
   "outputs": [
    {
     "data": {
      "text/plain": [
       "Airline Company     object\n",
       "Flight Code         object\n",
       "Departure Time      object\n",
       "Source City         object\n",
       "Arrival Time        object\n",
       "Destination City    object\n",
       "Duration            object\n",
       "Total Stops         object\n",
       "Price               object\n",
       "dtype: object"
      ]
     },
     "execution_count": 7,
     "metadata": {},
     "output_type": "execute_result"
    }
   ],
   "source": [
    "df.dtypes"
   ]
  },
  {
   "cell_type": "markdown",
   "id": "81ea3a24",
   "metadata": {},
   "source": [
    "DATA CLEANING"
   ]
  },
  {
   "cell_type": "code",
   "execution_count": 8,
   "id": "df923282",
   "metadata": {},
   "outputs": [
    {
     "data": {
      "text/html": [
       "<div>\n",
       "<style scoped>\n",
       "    .dataframe tbody tr th:only-of-type {\n",
       "        vertical-align: middle;\n",
       "    }\n",
       "\n",
       "    .dataframe tbody tr th {\n",
       "        vertical-align: top;\n",
       "    }\n",
       "\n",
       "    .dataframe thead th {\n",
       "        text-align: right;\n",
       "    }\n",
       "</style>\n",
       "<table border=\"1\" class=\"dataframe\">\n",
       "  <thead>\n",
       "    <tr style=\"text-align: right;\">\n",
       "      <th></th>\n",
       "      <th>Total</th>\n",
       "      <th>Percent</th>\n",
       "    </tr>\n",
       "  </thead>\n",
       "  <tbody>\n",
       "    <tr>\n",
       "      <th>Airline Company</th>\n",
       "      <td>0</td>\n",
       "      <td>0.0</td>\n",
       "    </tr>\n",
       "    <tr>\n",
       "      <th>Flight Code</th>\n",
       "      <td>0</td>\n",
       "      <td>0.0</td>\n",
       "    </tr>\n",
       "    <tr>\n",
       "      <th>Departure Time</th>\n",
       "      <td>0</td>\n",
       "      <td>0.0</td>\n",
       "    </tr>\n",
       "    <tr>\n",
       "      <th>Source City</th>\n",
       "      <td>0</td>\n",
       "      <td>0.0</td>\n",
       "    </tr>\n",
       "    <tr>\n",
       "      <th>Arrival Time</th>\n",
       "      <td>0</td>\n",
       "      <td>0.0</td>\n",
       "    </tr>\n",
       "  </tbody>\n",
       "</table>\n",
       "</div>"
      ],
      "text/plain": [
       "                 Total  Percent\n",
       "Airline Company      0      0.0\n",
       "Flight Code          0      0.0\n",
       "Departure Time       0      0.0\n",
       "Source City          0      0.0\n",
       "Arrival Time         0      0.0"
      ]
     },
     "execution_count": 8,
     "metadata": {},
     "output_type": "execute_result"
    }
   ],
   "source": [
    "total=df.isnull().sum().sort_values(ascending=False)\n",
    "percent = (df.isnull().sum()/df.isnull().count()).sort_values(ascending=False)\n",
    "missing = pd.concat([total, percent], axis=1, keys=['Total' , 'Percent'])\n",
    "missing.head()"
   ]
  },
  {
   "cell_type": "code",
   "execution_count": 9,
   "id": "49f8ab20",
   "metadata": {},
   "outputs": [
    {
     "data": {
      "text/plain": [
       "pandas.core.frame.DataFrame"
      ]
     },
     "execution_count": 9,
     "metadata": {},
     "output_type": "execute_result"
    }
   ],
   "source": [
    "type(df)"
   ]
  },
  {
   "cell_type": "markdown",
   "id": "85fb363b",
   "metadata": {},
   "source": [
    "EXPLORATORY  DATA   ANALYSIS"
   ]
  },
  {
   "cell_type": "code",
   "execution_count": 10,
   "id": "6a74c590",
   "metadata": {},
   "outputs": [
    {
     "data": {
      "text/plain": [
       "Airline Company     0\n",
       "Flight Code         0\n",
       "Departure Time      0\n",
       "Source City         0\n",
       "Arrival Time        0\n",
       "Destination City    0\n",
       "Duration            0\n",
       "Total Stops         0\n",
       "Price               0\n",
       "dtype: int64"
      ]
     },
     "execution_count": 10,
     "metadata": {},
     "output_type": "execute_result"
    }
   ],
   "source": [
    "df.isnull().sum()"
   ]
  },
  {
   "cell_type": "code",
   "execution_count": 11,
   "id": "941a5e6c",
   "metadata": {},
   "outputs": [],
   "source": [
    "df1=df.groupby(['Flight Code' , 'Airline Company'], as_index=False).count()"
   ]
  },
  {
   "cell_type": "code",
   "execution_count": 12,
   "id": "c0a8f773",
   "metadata": {},
   "outputs": [
    {
     "data": {
      "image/png": "[encoded data removed]",
      "text/plain": [
       "<Figure size 576x360 with 1 Axes>"
      ]
     },
     "metadata": {
      "needs_background": "light"
     },
     "output_type": "display_data"
    }
   ],
   "source": [
    "plt.figure(figsize=(8,5))\n",
    "sns.countplot(df1['Airline Company'], palette='hls')\n",
    "plt.title('Flights Count of Different Airlines', fontsize=15)\n",
    "plt.xlabel('Airline', fontsize=15)\n",
    "plt.ylabel('Count', fontsize=15)\n",
    "plt.show()"
   ]
  },
  {
   "cell_type": "code",
   "execution_count": 13,
   "id": "e9aa9a0e",
   "metadata": {},
   "outputs": [],
   "source": [
    "df2=df.groupby(['Flight Code' , 'Airline Company' , 'Total Stops'], as_index=False).count()"
   ]
  },
  {
   "cell_type": "code",
   "execution_count": 14,
   "id": "5bd8a7c6",
   "metadata": {},
   "outputs": [
    {
     "data": {
      "image/png": "[encoded data removed]",
      "text/plain": [
       "<Figure size 576x432 with 1 Axes>"
      ]
     },
     "metadata": {},
     "output_type": "display_data"
    }
   ],
   "source": [
    "plt.figure(figsize=(8,6))\n",
    "df2['Total Stops'].value_counts().plot(kind='pie',textprops={'color':'black'}, autopct='%.2f',cmap='cool',fontsize=8)\n",
    "plt.title('Total Stops of Different Airlines', fontsize=15)\n",
    "plt.legend(['1 Stop' , 'Non-Stop'])\n",
    "plt.show()"
   ]
  },
  {
   "cell_type": "code",
   "execution_count": 15,
   "id": "0a621367",
   "metadata": {},
   "outputs": [
    {
     "data": {
      "text/plain": [
       "29,255    144\n",
       "Name: Price, dtype: int64"
      ]
     },
     "execution_count": 15,
     "metadata": {},
     "output_type": "execute_result"
    }
   ],
   "source": [
    "df['Price'].value_counts()"
   ]
  },
  {
   "cell_type": "code",
   "execution_count": 16,
   "id": "fa79e564",
   "metadata": {},
   "outputs": [
    {
     "data": {
      "text/plain": [
       "IndiGo       45\n",
       "Vistara      33\n",
       "Air India    32\n",
       "Go First     17\n",
       "SpiceJet      9\n",
       "Air Asia      8\n",
       "Name: Airline Company, dtype: int64"
      ]
     },
     "execution_count": 16,
     "metadata": {},
     "output_type": "execute_result"
    }
   ],
   "source": [
    "df['Airline Company'].value_counts()"
   ]
  },
  {
   "cell_type": "code",
   "execution_count": 17,
   "id": "de3719f9",
   "metadata": {},
   "outputs": [
    {
     "data": {
      "text/plain": [
       "<AxesSubplot:title={'center':'Price'}>"
      ]
     },
     "execution_count": 17,
     "metadata": {},
     "output_type": "execute_result"
    },
    {
     "data": {
      "image/png": "[encoded data removed]",
      "text/plain": [
       "<Figure size 720x576 with 1 Axes>"
      ]
     },
     "metadata": {
      "needs_background": "light"
     },
     "output_type": "display_data"
    }
   ],
   "source": [
    "plt.subplot()\n",
    "df['Price'].value_counts().plot(kind='bar',title='Price',figsize=(10,8),fontsize=15)"
   ]
  },
  {
   "cell_type": "code",
   "execution_count": 18,
   "id": "1c11b299",
   "metadata": {},
   "outputs": [
    {
     "data": {
      "text/plain": [
       "<AxesSubplot:title={'center':'Airlines'}>"
      ]
     },
     "execution_count": 18,
     "metadata": {},
     "output_type": "execute_result"
    },
    {
     "data": {
      "image/png": "[encoded data removed]",
      "text/plain": [
       "<Figure size 720x576 with 1 Axes>"
      ]
     },
     "metadata": {
      "needs_background": "light"
     },
     "output_type": "display_data"
    }
   ],
   "source": [
    "plt.subplot()\n",
    "df['Airline Company'].value_counts().plot(kind='bar',title='Airlines',figsize=(10,8),fontsize=15)"
   ]
  },
  {
   "cell_type": "code",
   "execution_count": 19,
   "id": "47a65867",
   "metadata": {},
   "outputs": [
    {
     "data": {
      "text/plain": [
       "<AxesSubplot:title={'center':'Flight'}>"
      ]
     },
     "execution_count": 19,
     "metadata": {},
     "output_type": "execute_result"
    },
    {
     "data": {
      "image/png": "[encoded data removed]",
      "text/plain": [
       "<Figure size 720x576 with 1 Axes>"
      ]
     },
     "metadata": {
      "needs_background": "light"
     },
     "output_type": "display_data"
    }
   ],
   "source": [
    "plt.subplot()\n",
    "df['Flight Code'].value_counts().plot(kind='bar',title='Flight',figsize=(10,8),fontsize=15)"
   ]
  },
  {
   "cell_type": "code",
   "execution_count": 20,
   "id": "bdb5dd61",
   "metadata": {},
   "outputs": [
    {
     "data": {
      "text/plain": [
       "<AxesSubplot:title={'center':'Source City'}>"
      ]
     },
     "execution_count": 20,
     "metadata": {},
     "output_type": "execute_result"
    },
    {
     "data": {
      "image/png": "[encoded data removed]",
      "text/plain": [
       "<Figure size 720x576 with 1 Axes>"
      ]
     },
     "metadata": {
      "needs_background": "light"
     },
     "output_type": "display_data"
    }
   ],
   "source": [
    "plt.subplot()\n",
    "df['Source City'].value_counts().plot(kind='bar',title='Source City',figsize=(10,8),fontsize=15)"
   ]
  },
  {
   "cell_type": "code",
   "execution_count": 21,
   "id": "68d65293",
   "metadata": {},
   "outputs": [
    {
     "data": {
      "text/plain": [
       "<AxesSubplot:title={'center':'Destination'}>"
      ]
     },
     "execution_count": 21,
     "metadata": {},
     "output_type": "execute_result"
    },
    {
     "data": {
      "image/png": "[encoded data removed]",
      "text/plain": [
       "<Figure size 720x576 with 1 Axes>"
      ]
     },
     "metadata": {
      "needs_background": "light"
     },
     "output_type": "display_data"
    }
   ],
   "source": [
    "plt.subplot()\n",
    "df['Destination City'].value_counts().plot(kind='bar',title='Destination',figsize=(10,8),fontsize=15)"
   ]
  },
  {
   "cell_type": "code",
   "execution_count": 22,
   "id": "da8e194d",
   "metadata": {},
   "outputs": [
    {
     "data": {
      "text/plain": [
       "<AxesSubplot:title={'center':'Duration'}>"
      ]
     },
     "execution_count": 22,
     "metadata": {},
     "output_type": "execute_result"
    },
    {
     "data": {
      "image/png": "[encoded data removed]",
      "text/plain": [
       "<Figure size 720x576 with 1 Axes>"
      ]
     },
     "metadata": {
      "needs_background": "light"
     },
     "output_type": "display_data"
    }
   ],
   "source": [
    "plt.subplot()\n",
    "df['Duration'].value_counts().plot(kind='bar',title='Duration',figsize=(10,8),fontsize=15)"
   ]
  },
  {
   "cell_type": "code",
   "execution_count": 23,
   "id": "4ce6053c",
   "metadata": {},
   "outputs": [
    {
     "data": {
      "text/plain": [
       "<AxesSubplot:title={'center':'Total Stops'}>"
      ]
     },
     "execution_count": 23,
     "metadata": {},
     "output_type": "execute_result"
    },
    {
     "data": {
      "image/png": "[encoded data removed]",
      "text/plain": [
       "<Figure size 720x576 with 1 Axes>"
      ]
     },
     "metadata": {
      "needs_background": "light"
     },
     "output_type": "display_data"
    }
   ],
   "source": [
    "plt.subplot()\n",
    "df['Total Stops'].value_counts().plot(kind='bar',title='Total Stops',figsize=(10,8),fontsize=15)"
   ]
  },
  {
   "cell_type": "code",
   "execution_count": 24,
   "id": "d0b13ca1",
   "metadata": {},
   "outputs": [
    {
     "name": "stdout",
     "output_type": "stream",
     "text": [
      "Empty DataFrame\n",
      "Columns: []\n",
      "Index: []\n"
     ]
    },
    {
     "data": {
      "image/png": "[encoded data removed]",
      "text/plain": [
       "<Figure size 720x576 with 1 Axes>"
      ]
     },
     "metadata": {
      "needs_background": "light"
     },
     "output_type": "display_data"
    }
   ],
   "source": [
    "plt.figure(figsize=(10,8))\n",
    "sns.scatterplot(df['Price'],df['Airline Company'])\n",
    "print(df[['Price' , 'Airline Company']].corr())\n",
    "plt.show()"
   ]
  },
  {
   "cell_type": "code",
   "execution_count": 25,
   "id": "bb77bcff",
   "metadata": {},
   "outputs": [
    {
     "data": {
      "image/png": "[encoded data removed]",
      "text/plain": [
       "<Figure size 720x576 with 1 Axes>"
      ]
     },
     "metadata": {
      "needs_background": "light"
     },
     "output_type": "display_data"
    }
   ],
   "source": [
    "plt.figure(figsize=(10,8))\n",
    "sns.countplot(df['Flight Code'])\n",
    "plt.show()"
   ]
  },
  {
   "cell_type": "code",
   "execution_count": 26,
   "id": "ac23e753",
   "metadata": {},
   "outputs": [
    {
     "data": {
      "image/png": "[encoded data removed]",
      "text/plain": [
       "<Figure size 720x576 with 1 Axes>"
      ]
     },
     "metadata": {
      "needs_background": "light"
     },
     "output_type": "display_data"
    }
   ],
   "source": [
    "plt.figure(figsize=(10,8))\n",
    "sns.countplot(df['Airline Company'])\n",
    "plt.show()"
   ]
  },
  {
   "cell_type": "code",
   "execution_count": 27,
   "id": "6f801958",
   "metadata": {},
   "outputs": [
    {
     "data": {
      "image/png": "[encoded data removed]",
      "text/plain": [
       "<Figure size 720x576 with 1 Axes>"
      ]
     },
     "metadata": {
      "needs_background": "light"
     },
     "output_type": "display_data"
    }
   ],
   "source": [
    "plt.figure(figsize=(10,8))\n",
    "sns.countplot(df['Source City'])\n",
    "plt.show()"
   ]
  },
  {
   "cell_type": "code",
   "execution_count": 28,
   "id": "c5e66741",
   "metadata": {},
   "outputs": [
    {
     "data": {
      "image/png": "[encoded data removed]",
      "text/plain": [
       "<Figure size 720x576 with 1 Axes>"
      ]
     },
     "metadata": {
      "needs_background": "light"
     },
     "output_type": "display_data"
    }
   ],
   "source": [
    "plt.figure(figsize=(10,8))\n",
    "sns.countplot(df['Destination City'])\n",
    "plt.show()"
   ]
  },
  {
   "cell_type": "code",
   "execution_count": 29,
   "id": "c4e54c83",
   "metadata": {},
   "outputs": [
    {
     "data": {
      "image/png": "[encoded data removed]",
      "text/plain": [
       "<Figure size 720x576 with 1 Axes>"
      ]
     },
     "metadata": {
      "needs_background": "light"
     },
     "output_type": "display_data"
    }
   ],
   "source": [
    "plt.figure(figsize=(10,8))\n",
    "sns.countplot(df['Price'])\n",
    "plt.show()"
   ]
  },
  {
   "cell_type": "code",
   "execution_count": 30,
   "id": "cee3f531",
   "metadata": {},
   "outputs": [
    {
     "data": {
      "image/png": "[encoded data removed]",
      "text/plain": [
       "<Figure size 720x576 with 1 Axes>"
      ]
     },
     "metadata": {
      "needs_background": "light"
     },
     "output_type": "display_data"
    }
   ],
   "source": [
    "data=pd.crosstab(df['Price'],df['Airline Company'])\n",
    "data.plot.bar(stacked=True,figsize=(10,8))\n",
    "plt.xticks()\n",
    "plt.show()"
   ]
  },
  {
   "cell_type": "code",
   "execution_count": 31,
   "id": "5cbfbd8d",
   "metadata": {},
   "outputs": [
    {
     "data": {
      "text/plain": [
       "<AxesSubplot:xlabel='Airline Company', ylabel='Price'>"
      ]
     },
     "execution_count": 31,
     "metadata": {},
     "output_type": "execute_result"
    },
    {
     "data": {
      "image/png": "[encoded data removed]",
      "text/plain": [
       "<Figure size 720x576 with 1 Axes>"
      ]
     },
     "metadata": {
      "needs_background": "light"
     },
     "output_type": "display_data"
    }
   ],
   "source": [
    "plt.figure(figsize=(10,8))\n",
    "sns.lineplot(x='Airline Company',y='Price',data=df)"
   ]
  },
  {
   "cell_type": "code",
   "execution_count": 32,
   "id": "db010dc4",
   "metadata": {},
   "outputs": [
    {
     "data": {
      "text/plain": [
       "<AxesSubplot:xlabel='Source City', ylabel='Price'>"
      ]
     },
     "execution_count": 32,
     "metadata": {},
     "output_type": "execute_result"
    },
    {
     "data": {
      "image/png": "[encoded data removed]",
      "text/plain": [
       "<Figure size 720x576 with 1 Axes>"
      ]
     },
     "metadata": {
      "needs_background": "light"
     },
     "output_type": "display_data"
    }
   ],
   "source": [
    "plt.figure(figsize=(10,8))\n",
    "sns.lineplot(x='Source City',y='Price',data=df)"
   ]
  },
  {
   "cell_type": "code",
   "execution_count": 33,
   "id": "5520f8df",
   "metadata": {},
   "outputs": [
    {
     "data": {
      "text/plain": [
       "<AxesSubplot:xlabel='Destination City', ylabel='Price'>"
      ]
     },
     "execution_count": 33,
     "metadata": {},
     "output_type": "execute_result"
    },
    {
     "data": {
      "image/png": "[encoded data removed]",
      "text/plain": [
       "<Figure size 720x576 with 1 Axes>"
      ]
     },
     "metadata": {
      "needs_background": "light"
     },
     "output_type": "display_data"
    }
   ],
   "source": [
    "plt.figure(figsize=(10,8))\n",
    "sns.lineplot(x='Destination City',y='Price',data=df)"
   ]
  },
  {
   "cell_type": "code",
   "execution_count": 34,
   "id": "367bff42",
   "metadata": {},
   "outputs": [
    {
     "data": {
      "image/png": "[encoded data removed]",
      "text/plain": [
       "<Figure size 720x360 with 1 Axes>"
      ]
     },
     "metadata": {
      "needs_background": "light"
     },
     "output_type": "display_data"
    }
   ],
   "source": [
    "plt.figure(figsize=(10,5))\n",
    "plt.title('Price of Airlines')\n",
    "ax=sns.countplot(x='Price',data=df)\n",
    "plt.xlabel('Price')\n",
    "plt.ylabel('Airlines')\n",
    "for i in ax.patches:\n",
    "    ax.annotate(int(i.get_height()), (i.get_x()+0.25,i.get_height()+1), va='bottom',color='black')"
   ]
  },
  {
   "cell_type": "code",
   "execution_count": 35,
   "id": "ef6cc354",
   "metadata": {},
   "outputs": [
    {
     "data": {
      "text/plain": [
       "<Figure size 720x576 with 0 Axes>"
      ]
     },
     "metadata": {},
     "output_type": "display_data"
    },
    {
     "data": {
      "image/png": "[encoded data removed]",
      "text/plain": [
       "<Figure size 427.875x360 with 1 Axes>"
      ]
     },
     "metadata": {
      "needs_background": "light"
     },
     "output_type": "display_data"
    }
   ],
   "source": [
    "plt.figure(figsize=(10,8))\n",
    "sns.relplot(x='Airline Company',y='Price', hue='Total Stops',data=df)\n",
    "plt.xticks();"
   ]
  },
  {
   "cell_type": "code",
   "execution_count": 36,
   "id": "1e844273",
   "metadata": {},
   "outputs": [
    {
     "data": {
      "image/png": "[encoded data removed]",
      "text/plain": [
       "<Figure size 720x576 with 1 Axes>"
      ]
     },
     "metadata": {
      "needs_background": "light"
     },
     "output_type": "display_data"
    }
   ],
   "source": [
    "data=pd.crosstab(df['Price'],df['Arrival Time'])\n",
    "data.plot.bar(stacked=True,figsize=(10,8))\n",
    "plt.xticks()\n",
    "plt.show()"
   ]
  },
  {
   "cell_type": "code",
   "execution_count": 37,
   "id": "095104f8",
   "metadata": {},
   "outputs": [
    {
     "data": {
      "image/png": "[encoded data removed]",
      "text/plain": [
       "<Figure size 720x576 with 1 Axes>"
      ]
     },
     "metadata": {
      "needs_background": "light"
     },
     "output_type": "display_data"
    }
   ],
   "source": [
    "data=pd.crosstab(df['Price'],df['Departure Time'])\n",
    "data.plot.bar(stacked=True,figsize=(10,8))\n",
    "plt.xticks()\n",
    "plt.show()"
   ]
  },
  {
   "cell_type": "code",
   "execution_count": 38,
   "id": "434e89fa",
   "metadata": {},
   "outputs": [
    {
     "data": {
      "image/png": "[encoded data removed]",
      "text/plain": [
       "<Figure size 1440x576 with 1 Axes>"
      ]
     },
     "metadata": {
      "needs_background": "light"
     },
     "output_type": "display_data"
    }
   ],
   "source": [
    "plt.figure(figsize=(20,8))\n",
    "sns.lineplot(data=df,x='Duration',y='Price',hue='Airline Company',palette='hls')\n",
    "plt.title('Ticket Price Vs Flight Duration',fontsize=20)\n",
    "plt.xlabel('Duration',fontsize=15)\n",
    "plt.ylabel('Price',fontsize=15)\n",
    "plt.show()"
   ]
  },
  {
   "cell_type": "code",
   "execution_count": 39,
   "id": "516ae32b",
   "metadata": {},
   "outputs": [
    {
     "data": {
      "image/png": "[encoded data removed]",
      "text/plain": [
       "<Figure size 1440x576 with 1 Axes>"
      ]
     },
     "metadata": {
      "needs_background": "light"
     },
     "output_type": "display_data"
    }
   ],
   "source": [
    "plt.figure(figsize=(20,8))\n",
    "sns.lineplot(data=df,x='Departure Time',y='Price',color='blue',hue='Airline Company')\n",
    "plt.title(' Departure Vs Ticket Price',fontsize=20)\n",
    "plt.xlabel('Departure',fontsize=15)\n",
    "plt.ylabel('Price',fontsize=15)\n",
    "plt.show()"
   ]
  },
  {
   "cell_type": "code",
   "execution_count": 40,
   "id": "59528a22",
   "metadata": {},
   "outputs": [
    {
     "data": {
      "text/html": [
       "<div>\n",
       "<style scoped>\n",
       "    .dataframe tbody tr th:only-of-type {\n",
       "        vertical-align: middle;\n",
       "    }\n",
       "\n",
       "    .dataframe tbody tr th {\n",
       "        vertical-align: top;\n",
       "    }\n",
       "\n",
       "    .dataframe thead th {\n",
       "        text-align: right;\n",
       "    }\n",
       "</style>\n",
       "<table border=\"1\" class=\"dataframe\">\n",
       "  <thead>\n",
       "    <tr style=\"text-align: right;\">\n",
       "      <th></th>\n",
       "      <th>Source City</th>\n",
       "      <th>Destination City</th>\n",
       "      <th>Flight Code</th>\n",
       "    </tr>\n",
       "  </thead>\n",
       "  <tbody>\n",
       "    <tr>\n",
       "      <th>0</th>\n",
       "      <td>New Delhi</td>\n",
       "      <td>Mumbai</td>\n",
       "      <td>6</td>\n",
       "    </tr>\n",
       "  </tbody>\n",
       "</table>\n",
       "</div>"
      ],
      "text/plain": [
       "  Source City Destination City  Flight Code\n",
       "0   New Delhi           Mumbai            6"
      ]
     },
     "execution_count": 40,
     "metadata": {},
     "output_type": "execute_result"
    }
   ],
   "source": [
    "df.groupby(['Flight Code','Source City','Destination City', 'Airline Company'],as_index=False).count().groupby(['Source City','Destination City'],as_index=False)['Flight Code'].count().head(10)"
   ]
  },
  {
   "cell_type": "code",
   "execution_count": 41,
   "id": "7fd81628",
   "metadata": {},
   "outputs": [
    {
     "data": {
      "text/html": [
       "<div>\n",
       "<style scoped>\n",
       "    .dataframe tbody tr th:only-of-type {\n",
       "        vertical-align: middle;\n",
       "    }\n",
       "\n",
       "    .dataframe tbody tr th {\n",
       "        vertical-align: top;\n",
       "    }\n",
       "\n",
       "    .dataframe thead th {\n",
       "        text-align: right;\n",
       "    }\n",
       "</style>\n",
       "<table border=\"1\" class=\"dataframe\">\n",
       "  <thead>\n",
       "    <tr style=\"text-align: right;\">\n",
       "      <th></th>\n",
       "      <th>Airline Company</th>\n",
       "      <th>Source City</th>\n",
       "      <th>Destination City</th>\n",
       "    </tr>\n",
       "  </thead>\n",
       "  <tbody>\n",
       "    <tr>\n",
       "      <th>0</th>\n",
       "      <td>Air Asia</td>\n",
       "      <td>New Delhi</td>\n",
       "      <td>Mumbai</td>\n",
       "    </tr>\n",
       "    <tr>\n",
       "      <th>1</th>\n",
       "      <td>Air India</td>\n",
       "      <td>New Delhi</td>\n",
       "      <td>Mumbai</td>\n",
       "    </tr>\n",
       "    <tr>\n",
       "      <th>2</th>\n",
       "      <td>Go First</td>\n",
       "      <td>New Delhi</td>\n",
       "      <td>Mumbai</td>\n",
       "    </tr>\n",
       "    <tr>\n",
       "      <th>3</th>\n",
       "      <td>IndiGo</td>\n",
       "      <td>New Delhi</td>\n",
       "      <td>Mumbai</td>\n",
       "    </tr>\n",
       "    <tr>\n",
       "      <th>4</th>\n",
       "      <td>SpiceJet</td>\n",
       "      <td>New Delhi</td>\n",
       "      <td>Mumbai</td>\n",
       "    </tr>\n",
       "    <tr>\n",
       "      <th>5</th>\n",
       "      <td>Vistara</td>\n",
       "      <td>New Delhi</td>\n",
       "      <td>Mumbai</td>\n",
       "    </tr>\n",
       "  </tbody>\n",
       "</table>\n",
       "</div>"
      ],
      "text/plain": [
       "  Airline Company Source City Destination City\n",
       "0        Air Asia   New Delhi           Mumbai\n",
       "1       Air India   New Delhi           Mumbai\n",
       "2        Go First   New Delhi           Mumbai\n",
       "3          IndiGo   New Delhi           Mumbai\n",
       "4        SpiceJet   New Delhi           Mumbai\n",
       "5         Vistara   New Delhi           Mumbai"
      ]
     },
     "execution_count": 41,
     "metadata": {},
     "output_type": "execute_result"
    }
   ],
   "source": [
    "df.groupby(['Airline Company','Source City','Destination City'], as_index=False)['Price'].mean().head(10)"
   ]
  },
  {
   "cell_type": "code",
   "execution_count": 42,
   "id": "b1df08fc",
   "metadata": {},
   "outputs": [
    {
     "data": {
      "text/html": [
       "<div>\n",
       "<style scoped>\n",
       "    .dataframe tbody tr th:only-of-type {\n",
       "        vertical-align: middle;\n",
       "    }\n",
       "\n",
       "    .dataframe tbody tr th {\n",
       "        vertical-align: top;\n",
       "    }\n",
       "\n",
       "    .dataframe thead th {\n",
       "        text-align: right;\n",
       "    }\n",
       "</style>\n",
       "<table border=\"1\" class=\"dataframe\">\n",
       "  <thead>\n",
       "    <tr style=\"text-align: right;\">\n",
       "      <th></th>\n",
       "      <th>Airline Company</th>\n",
       "      <th>Source City</th>\n",
       "      <th>Destination City</th>\n",
       "      <th>Price</th>\n",
       "    </tr>\n",
       "  </thead>\n",
       "  <tbody>\n",
       "    <tr>\n",
       "      <th>0</th>\n",
       "      <td>Air Asia</td>\n",
       "      <td>New Delhi</td>\n",
       "      <td>Mumbai</td>\n",
       "      <td>8</td>\n",
       "    </tr>\n",
       "    <tr>\n",
       "      <th>1</th>\n",
       "      <td>Air India</td>\n",
       "      <td>New Delhi</td>\n",
       "      <td>Mumbai</td>\n",
       "      <td>32</td>\n",
       "    </tr>\n",
       "    <tr>\n",
       "      <th>2</th>\n",
       "      <td>Go First</td>\n",
       "      <td>New Delhi</td>\n",
       "      <td>Mumbai</td>\n",
       "      <td>17</td>\n",
       "    </tr>\n",
       "    <tr>\n",
       "      <th>3</th>\n",
       "      <td>IndiGo</td>\n",
       "      <td>New Delhi</td>\n",
       "      <td>Mumbai</td>\n",
       "      <td>45</td>\n",
       "    </tr>\n",
       "    <tr>\n",
       "      <th>4</th>\n",
       "      <td>SpiceJet</td>\n",
       "      <td>New Delhi</td>\n",
       "      <td>Mumbai</td>\n",
       "      <td>9</td>\n",
       "    </tr>\n",
       "    <tr>\n",
       "      <th>5</th>\n",
       "      <td>Vistara</td>\n",
       "      <td>New Delhi</td>\n",
       "      <td>Mumbai</td>\n",
       "      <td>33</td>\n",
       "    </tr>\n",
       "  </tbody>\n",
       "</table>\n",
       "</div>"
      ],
      "text/plain": [
       "  Airline Company Source City Destination City  Price\n",
       "0        Air Asia   New Delhi           Mumbai      8\n",
       "1       Air India   New Delhi           Mumbai     32\n",
       "2        Go First   New Delhi           Mumbai     17\n",
       "3          IndiGo   New Delhi           Mumbai     45\n",
       "4        SpiceJet   New Delhi           Mumbai      9\n",
       "5         Vistara   New Delhi           Mumbai     33"
      ]
     },
     "execution_count": 42,
     "metadata": {},
     "output_type": "execute_result"
    }
   ],
   "source": [
    "df.groupby(['Airline Company','Source City','Destination City'], as_index=False)['Price'].count().head(10)"
   ]
  },
  {
   "cell_type": "code",
   "execution_count": 43,
   "id": "a1b15f60",
   "metadata": {},
   "outputs": [
    {
     "name": "stdout",
     "output_type": "stream",
     "text": [
      "categorical values: \n",
      "['Airline Company', 'Flight Code', 'Departure Time', 'Source City', 'Arrival Time', 'Destination City', 'Duration', 'Total Stops', 'Price']\n"
     ]
    }
   ],
   "source": [
    "# categorical value\n",
    "c=(df.dtypes==\"object\")\n",
    "object_cols=list(c[c].index)\n",
    "print(\"categorical values: \")\n",
    "print(object_cols)"
   ]
  },
  {
   "cell_type": "code",
   "execution_count": 44,
   "id": "f0653be2",
   "metadata": {},
   "outputs": [
    {
     "name": "stdout",
     "output_type": "stream",
     "text": [
      "Airline Company 0\n",
      "Flight Code 0\n",
      "Departure Time 0\n",
      "Source City 0\n",
      "Arrival Time 0\n",
      "Destination City 0\n",
      "Duration 0\n",
      "Total Stops 0\n",
      "Price 0\n"
     ]
    }
   ],
   "source": [
    "for i in object_cols:\n",
    "    print(i, df[i].isnull().sum())"
   ]
  },
  {
   "cell_type": "code",
   "execution_count": 45,
   "id": "2d61ff6f",
   "metadata": {},
   "outputs": [],
   "source": [
    "for i in object_cols:\n",
    "    df[i].fillna(df[i].mode()[0],inplace=True)"
   ]
  },
  {
   "cell_type": "code",
   "execution_count": 46,
   "id": "79320989",
   "metadata": {},
   "outputs": [
    {
     "name": "stdout",
     "output_type": "stream",
     "text": [
      "Numeric values: \n",
      "[]\n"
     ]
    }
   ],
   "source": [
    "#numerical value\n",
    "n=(df.dtypes == \"float64\")\n",
    "num_cols=list(n[n].index)\n",
    "print(\"Numeric values: \")\n",
    "print(num_cols)"
   ]
  },
  {
   "cell_type": "code",
   "execution_count": 47,
   "id": "df9546fb",
   "metadata": {},
   "outputs": [],
   "source": [
    "for i in num_cols:\n",
    "    print(i, df[i].isnull().sum())"
   ]
  },
  {
   "cell_type": "code",
   "execution_count": 48,
   "id": "6f3fd568",
   "metadata": {},
   "outputs": [],
   "source": [
    "for i in num_cols:\n",
    "    df[i].fillna(df[i].median(),inplace=True)"
   ]
  },
  {
   "cell_type": "code",
   "execution_count": 49,
   "id": "e84a1fa9",
   "metadata": {},
   "outputs": [
    {
     "name": "stdout",
     "output_type": "stream",
     "text": [
      "<class 'pandas.core.frame.DataFrame'>\n",
      "RangeIndex: 144 entries, 0 to 143\n",
      "Data columns (total 9 columns):\n",
      " #   Column            Non-Null Count  Dtype \n",
      "---  ------            --------------  ----- \n",
      " 0   Airline Company   144 non-null    object\n",
      " 1   Flight Code       144 non-null    object\n",
      " 2   Departure Time    144 non-null    object\n",
      " 3   Source City       144 non-null    object\n",
      " 4   Arrival Time      144 non-null    object\n",
      " 5   Destination City  144 non-null    object\n",
      " 6   Duration          144 non-null    object\n",
      " 7   Total Stops       144 non-null    object\n",
      " 8   Price             144 non-null    object\n",
      "dtypes: object(9)\n",
      "memory usage: 10.2+ KB\n"
     ]
    }
   ],
   "source": [
    "df.info()"
   ]
  },
  {
   "cell_type": "code",
   "execution_count": 50,
   "id": "0d391d9c",
   "metadata": {},
   "outputs": [],
   "source": [
    "# label encoder\n",
    "from sklearn.preprocessing import LabelEncoder\n",
    "le=LabelEncoder()\n",
    "for col in df.columns:\n",
    "    if df[col].dtype=='object':\n",
    "        df[col] = le.fit_transform(df[col])"
   ]
  },
  {
   "cell_type": "code",
   "execution_count": 51,
   "id": "b408b85d",
   "metadata": {},
   "outputs": [],
   "source": [
    "# storing the Dependent Variables in X and Independent Variable in Y\n",
    "\n",
    "x=df.drop(['Price'],axis=1)\n",
    "y=df['Price']"
   ]
  },
  {
   "cell_type": "code",
   "execution_count": 52,
   "id": "d865b761",
   "metadata": {},
   "outputs": [
    {
     "data": {
      "text/plain": [
       "((100, 8), (44, 8), (100,), (44,))"
      ]
     },
     "execution_count": 52,
     "metadata": {},
     "output_type": "execute_result"
    }
   ],
   "source": [
    "# splitting the data into Training set and Testing set\n",
    "from sklearn.model_selection import train_test_split\n",
    "x_train,x_test,y_train,y_test=train_test_split(x,y,test_size=0.30,random_state=42)\n",
    "x_train.shape,x_test.shape,y_train.shape,y_test.shape"
   ]
  },
  {
   "cell_type": "markdown",
   "id": "54fdd536",
   "metadata": {},
   "source": [
    "DATA PRE-PROCESSING"
   ]
  },
  {
   "cell_type": "code",
   "execution_count": 53,
   "id": "be4069d0",
   "metadata": {},
   "outputs": [
    {
     "data": {
      "text/html": [
       "<div>\n",
       "<style scoped>\n",
       "    .dataframe tbody tr th:only-of-type {\n",
       "        vertical-align: middle;\n",
       "    }\n",
       "\n",
       "    .dataframe tbody tr th {\n",
       "        vertical-align: top;\n",
       "    }\n",
       "\n",
       "    .dataframe thead th {\n",
       "        text-align: right;\n",
       "    }\n",
       "</style>\n",
       "<table border=\"1\" class=\"dataframe\">\n",
       "  <thead>\n",
       "    <tr style=\"text-align: right;\">\n",
       "      <th></th>\n",
       "      <th>count</th>\n",
       "      <th>mean</th>\n",
       "      <th>std</th>\n",
       "      <th>min</th>\n",
       "      <th>25%</th>\n",
       "      <th>50%</th>\n",
       "      <th>75%</th>\n",
       "      <th>max</th>\n",
       "    </tr>\n",
       "  </thead>\n",
       "  <tbody>\n",
       "    <tr>\n",
       "      <th>Airline Company</th>\n",
       "      <td>144.0</td>\n",
       "      <td>7.999003e-17</td>\n",
       "      <td>1.00349</td>\n",
       "      <td>-1.78619</td>\n",
       "      <td>-1.146361</td>\n",
       "      <td>0.133298</td>\n",
       "      <td>0.773127</td>\n",
       "      <td>1.412957</td>\n",
       "    </tr>\n",
       "    <tr>\n",
       "      <th>Flight Code</th>\n",
       "      <td>144.0</td>\n",
       "      <td>0.000000e+00</td>\n",
       "      <td>0.00000</td>\n",
       "      <td>0.00000</td>\n",
       "      <td>0.000000</td>\n",
       "      <td>0.000000</td>\n",
       "      <td>0.000000</td>\n",
       "      <td>0.000000</td>\n",
       "    </tr>\n",
       "    <tr>\n",
       "      <th>Departure Time</th>\n",
       "      <td>144.0</td>\n",
       "      <td>0.000000e+00</td>\n",
       "      <td>0.00000</td>\n",
       "      <td>0.00000</td>\n",
       "      <td>0.000000</td>\n",
       "      <td>0.000000</td>\n",
       "      <td>0.000000</td>\n",
       "      <td>0.000000</td>\n",
       "    </tr>\n",
       "    <tr>\n",
       "      <th>Source City</th>\n",
       "      <td>144.0</td>\n",
       "      <td>0.000000e+00</td>\n",
       "      <td>0.00000</td>\n",
       "      <td>0.00000</td>\n",
       "      <td>0.000000</td>\n",
       "      <td>0.000000</td>\n",
       "      <td>0.000000</td>\n",
       "      <td>0.000000</td>\n",
       "    </tr>\n",
       "    <tr>\n",
       "      <th>Arrival Time</th>\n",
       "      <td>144.0</td>\n",
       "      <td>0.000000e+00</td>\n",
       "      <td>0.00000</td>\n",
       "      <td>0.00000</td>\n",
       "      <td>0.000000</td>\n",
       "      <td>0.000000</td>\n",
       "      <td>0.000000</td>\n",
       "      <td>0.000000</td>\n",
       "    </tr>\n",
       "    <tr>\n",
       "      <th>Destination City</th>\n",
       "      <td>144.0</td>\n",
       "      <td>0.000000e+00</td>\n",
       "      <td>0.00000</td>\n",
       "      <td>0.00000</td>\n",
       "      <td>0.000000</td>\n",
       "      <td>0.000000</td>\n",
       "      <td>0.000000</td>\n",
       "      <td>0.000000</td>\n",
       "    </tr>\n",
       "  </tbody>\n",
       "</table>\n",
       "</div>"
      ],
      "text/plain": [
       "                  count          mean      std      min       25%       50%  \\\n",
       "Airline Company   144.0  7.999003e-17  1.00349 -1.78619 -1.146361  0.133298   \n",
       "Flight Code       144.0  0.000000e+00  0.00000  0.00000  0.000000  0.000000   \n",
       "Departure Time    144.0  0.000000e+00  0.00000  0.00000  0.000000  0.000000   \n",
       "Source City       144.0  0.000000e+00  0.00000  0.00000  0.000000  0.000000   \n",
       "Arrival Time      144.0  0.000000e+00  0.00000  0.00000  0.000000  0.000000   \n",
       "Destination City  144.0  0.000000e+00  0.00000  0.00000  0.000000  0.000000   \n",
       "\n",
       "                       75%       max  \n",
       "Airline Company   0.773127  1.412957  \n",
       "Flight Code       0.000000  0.000000  \n",
       "Departure Time    0.000000  0.000000  \n",
       "Source City       0.000000  0.000000  \n",
       "Arrival Time      0.000000  0.000000  \n",
       "Destination City  0.000000  0.000000  "
      ]
     },
     "execution_count": 53,
     "metadata": {},
     "output_type": "execute_result"
    }
   ],
   "source": [
    "from sklearn import preprocessing\n",
    "features=df.drop(['Duration','Price','Total Stops'],axis=1)\n",
    "target=df['Price']\n",
    "col_names=list(features.columns)\n",
    "scaler=preprocessing.StandardScaler()\n",
    "features=scaler.fit_transform(features)\n",
    "features=pd.DataFrame(features,columns=col_names)\n",
    "features.describe().T"
   ]
  },
  {
   "cell_type": "code",
   "execution_count": 54,
   "id": "a8c376c5",
   "metadata": {},
   "outputs": [
    {
     "data": {
      "image/png": "[encoded data removed]",
      "text/plain": [
       "<Figure size 1440x360 with 1 Axes>"
      ]
     },
     "metadata": {
      "needs_background": "light"
     },
     "output_type": "display_data"
    }
   ],
   "source": [
    "plt.figure(figsize=(20,5))\n",
    "ax=df.Price.value_counts(normalize=True).plot(kind='bar', color=['black', 'pink'], alpha=0.9, rot=0)\n",
    "plt.title('Flight Price Prediction')\n",
    "for i in ax.patches:\n",
    "    ax.annotate(str(round(i.get_height(),2)),(i.get_x() * 1.01, i.get_height() * 1.01))\n",
    "    \n",
    "plt.show()  "
   ]
  },
  {
   "cell_type": "code",
   "execution_count": 55,
   "id": "ad1ab8a2",
   "metadata": {},
   "outputs": [
    {
     "data": {
      "text/plain": [
       "<AxesSubplot:>"
      ]
     },
     "execution_count": 55,
     "metadata": {},
     "output_type": "execute_result"
    },
    {
     "data": {
      "image/png": "[encoded data removed]",
      "text/plain": [
       "<Figure size 1440x360 with 1 Axes>"
      ]
     },
     "metadata": {
      "needs_background": "light"
     },
     "output_type": "display_data"
    }
   ],
   "source": [
    "plt.figure(figsize=(20,5))\n",
    "sns.heatmap(df.isnull(),cbar=False,cmap='crest')"
   ]
  },
  {
   "cell_type": "code",
   "execution_count": 56,
   "id": "e68bc733",
   "metadata": {},
   "outputs": [
    {
     "data": {
      "image/png": "[encoded data removed]",
      "text/plain": [
       "<Figure size 1080x720 with 8 Axes>"
      ]
     },
     "metadata": {},
     "output_type": "display_data"
    }
   ],
   "source": [
    "# Visualizing relationship\n",
    "plt.figure(figsize=(15,10), facecolor= 'yellow')\n",
    "plotnumber  =  1\n",
    "\n",
    "for column in x:\n",
    "    if plotnumber<=8  :\n",
    "        ax  =  plt.subplot(2,4,plotnumber)\n",
    "        plt.scatter(x[column],y)\n",
    "        plt.xlabel(column,fontsize=10)\n",
    "        plt.ylabel('Price',fontsize=10)\n",
    "    plotnumber+=1\n",
    "plt.tight_layout()      "
   ]
  },
  {
   "cell_type": "code",
   "execution_count": 57,
   "id": "47b2bafb",
   "metadata": {},
   "outputs": [],
   "source": [
    "# Scaling the values to convert the int values to Machine Langugaes\n",
    "from sklearn.preprocessing import MinMaxScaler\n",
    "mmscaler=MinMaxScaler(feature_range=(0,1))\n",
    "x_train=mmscaler.fit_transform(x_train)\n",
    "x_test=mmscaler.fit_transform(x_test)\n",
    "x_train=pd.DataFrame(x_train)\n",
    "x_test=pd.DataFrame(x_test)"
   ]
  },
  {
   "cell_type": "code",
   "execution_count": 58,
   "id": "b2207070",
   "metadata": {},
   "outputs": [
    {
     "data": {
      "text/html": [
       "<div>\n",
       "<style scoped>\n",
       "    .dataframe tbody tr th:only-of-type {\n",
       "        vertical-align: middle;\n",
       "    }\n",
       "\n",
       "    .dataframe tbody tr th {\n",
       "        vertical-align: top;\n",
       "    }\n",
       "\n",
       "    .dataframe thead th {\n",
       "        text-align: right;\n",
       "    }\n",
       "</style>\n",
       "<table border=\"1\" class=\"dataframe\">\n",
       "  <thead>\n",
       "    <tr style=\"text-align: right;\">\n",
       "      <th></th>\n",
       "      <th>Model Name</th>\n",
       "      <th>Mean_Absolute_Error_MAE</th>\n",
       "      <th>Adj_R_Square</th>\n",
       "      <th>Root_Mean_Squared_Error_RMSE</th>\n",
       "      <th>Mean_Absolute_Percentage_Error_MAPE</th>\n",
       "      <th>Mean_Squared_Error_MSE</th>\n",
       "      <th>Root_Mean_Squared_Log_Error_RMSLE</th>\n",
       "      <th>R2_score</th>\n",
       "    </tr>\n",
       "  </thead>\n",
       "  <tbody>\n",
       "  </tbody>\n",
       "</table>\n",
       "</div>"
      ],
      "text/plain": [
       "Empty DataFrame\n",
       "Columns: [Model Name, Mean_Absolute_Error_MAE, Adj_R_Square, Root_Mean_Squared_Error_RMSE, Mean_Absolute_Percentage_Error_MAPE, Mean_Squared_Error_MSE, Root_Mean_Squared_Log_Error_RMSLE, R2_score]\n",
       "Index: []"
      ]
     },
     "execution_count": 58,
     "metadata": {},
     "output_type": "execute_result"
    }
   ],
   "source": [
    "a={'Model Name':[], 'Mean_Absolute_Error_MAE':[] ,'Adj_R_Square':[] ,'Root_Mean_Squared_Error_RMSE':[] ,'Mean_Absolute_Percentage_Error_MAPE':[] ,'Mean_Squared_Error_MSE':[] ,'Root_Mean_Squared_Log_Error_RMSLE':[] ,'R2_score':[]}\n",
    "outcome=pd.DataFrame(a)\n",
    "outcome.head()"
   ]
  },
  {
   "cell_type": "markdown",
   "id": "f1d21e31",
   "metadata": {},
   "source": [
    "MODEL  BUILDING"
   ]
  },
  {
   "cell_type": "code",
   "execution_count": 59,
   "id": "4d0bc720",
   "metadata": {},
   "outputs": [
    {
     "name": "stdout",
     "output_type": "stream",
     "text": [
      "Model Name:  LinearRegression()\n",
      "Mean Absolute Error (MAE): 0.0\n",
      "Mean Squared Error (MSE): 0.0\n",
      "Root Mean Squared Error (RMSE): 0.0\n",
      "R2_score: 1.0\n",
      "Root Mean Squared Log Error (RMSLE): -inf\n",
      "Mean Absolute Percentage Error (MAPE): nan %\n",
      "Adj R Square:  1.0\n",
      "------------------------------------------------------------------------------------------------------------\n",
      "Model Name:  DecisionTreeRegressor()\n",
      "Mean Absolute Error (MAE): 0.0\n",
      "Mean Squared Error (MSE): 0.0\n",
      "Root Mean Squared Error (RMSE): 0.0\n",
      "R2_score: 1.0\n",
      "Root Mean Squared Log Error (RMSLE): -inf\n",
      "Mean Absolute Percentage Error (MAPE): nan %\n",
      "Adj R Square:  1.0\n",
      "------------------------------------------------------------------------------------------------------------\n",
      "Model Name:  RandomForestRegressor()\n",
      "Mean Absolute Error (MAE): 0.0\n",
      "Mean Squared Error (MSE): 0.0\n",
      "Root Mean Squared Error (RMSE): 0.0\n",
      "R2_score: 1.0\n",
      "Root Mean Squared Log Error (RMSLE): -inf\n",
      "Mean Absolute Percentage Error (MAPE): nan %\n",
      "Adj R Square:  1.0\n",
      "------------------------------------------------------------------------------------------------------------\n",
      "Model Name:  KNeighborsRegressor()\n",
      "Mean Absolute Error (MAE): 0.0\n",
      "Mean Squared Error (MSE): 0.0\n",
      "Root Mean Squared Error (RMSE): 0.0\n",
      "R2_score: 1.0\n",
      "Root Mean Squared Log Error (RMSLE): -inf\n",
      "Mean Absolute Percentage Error (MAPE): nan %\n",
      "Adj R Square:  1.0\n",
      "------------------------------------------------------------------------------------------------------------\n",
      "Model Name:  ExtraTreesRegressor()\n",
      "Mean Absolute Error (MAE): 0.0\n",
      "Mean Squared Error (MSE): 0.0\n",
      "Root Mean Squared Error (RMSE): 0.0\n",
      "R2_score: 1.0\n",
      "Root Mean Squared Log Error (RMSLE): -inf\n",
      "Mean Absolute Percentage Error (MAPE): nan %\n",
      "Adj R Square:  1.0\n",
      "------------------------------------------------------------------------------------------------------------\n",
      "Model Name:  GradientBoostingRegressor(loss='ls')\n",
      "Mean Absolute Error (MAE): 0.0\n",
      "Mean Squared Error (MSE): 0.0\n",
      "Root Mean Squared Error (RMSE): 0.0\n",
      "R2_score: 1.0\n",
      "Root Mean Squared Log Error (RMSLE): -inf\n",
      "Mean Absolute Percentage Error (MAPE): nan %\n",
      "Adj R Square:  1.0\n",
      "------------------------------------------------------------------------------------------------------------\n",
      "Model Name:  XGBRegressor(base_score=0.5, booster='gbtree', callbacks=None,\n",
      "             colsample_bylevel=1, colsample_bynode=1, colsample_bytree=1,\n",
      "             early_stopping_rounds=None, enable_categorical=False,\n",
      "             eval_metric=None, gamma=0, gpu_id=-1, grow_policy='depthwise',\n",
      "             importance_type=None, interaction_constraints='',\n",
      "             learning_rate=0.300000012, max_bin=256, max_cat_to_onehot=4,\n",
      "             max_delta_step=0, max_depth=6, max_leaves=0, min_child_weight=1,\n",
      "             missing=nan, monotone_constraints='()', n_estimators=100, n_jobs=0,\n",
      "             num_parallel_tree=1, predictor='auto', random_state=0, reg_alpha=0,\n",
      "             reg_lambda=1, ...)\n",
      "Mean Absolute Error (MAE): 0.0\n",
      "Mean Squared Error (MSE): 0.0\n",
      "Root Mean Squared Error (RMSE): 0.0\n",
      "R2_score: 0.0\n",
      "Root Mean Squared Log Error (RMSLE): -35.937\n",
      "Mean Absolute Percentage Error (MAPE): inf %\n",
      "Adj R Square:  -0.059259\n",
      "------------------------------------------------------------------------------------------------------------\n",
      "Model Name:  BaggingRegressor()\n",
      "Mean Absolute Error (MAE): 0.0\n",
      "Mean Squared Error (MSE): 0.0\n",
      "Root Mean Squared Error (RMSE): 0.0\n",
      "R2_score: 1.0\n",
      "Root Mean Squared Log Error (RMSLE): -inf\n",
      "Mean Absolute Percentage Error (MAPE): nan %\n",
      "Adj R Square:  1.0\n",
      "------------------------------------------------------------------------------------------------------------\n",
      "Model Name:  Ridge()\n",
      "Mean Absolute Error (MAE): 0.0\n",
      "Mean Squared Error (MSE): 0.0\n",
      "Root Mean Squared Error (RMSE): 0.0\n",
      "R2_score: 1.0\n",
      "Root Mean Squared Log Error (RMSLE): -inf\n",
      "Mean Absolute Percentage Error (MAPE): nan %\n",
      "Adj R Square:  1.0\n",
      "------------------------------------------------------------------------------------------------------------\n",
      "Model Name:  Lasso(alpha=0.1)\n",
      "Mean Absolute Error (MAE): 0.0\n",
      "Mean Squared Error (MSE): 0.0\n",
      "Root Mean Squared Error (RMSE): 0.0\n",
      "R2_score: 1.0\n",
      "Root Mean Squared Log Error (RMSLE): -inf\n",
      "Mean Absolute Percentage Error (MAPE): nan %\n",
      "Adj R Square:  1.0\n",
      "------------------------------------------------------------------------------------------------------------\n"
     ]
    }
   ],
   "source": [
    "# Build the Regression / Regressor models\n",
    "\n",
    "from sklearn.linear_model import LinearRegression\n",
    "from sklearn.linear_model import Ridge\n",
    "from sklearn import linear_model\n",
    "from sklearn.tree import DecisionTreeRegressor\n",
    "from sklearn.ensemble import RandomForestRegressor\n",
    "from sklearn.svm import SVR\n",
    "import xgboost as xgb\n",
    "from sklearn.neighbors import KNeighborsRegressor\n",
    "from sklearn.ensemble import ExtraTreesRegressor\n",
    "from sklearn.ensemble import BaggingRegressor\n",
    "from sklearn.ensemble import GradientBoostingRegressor\n",
    "\n",
    "# Create objects of Regression / Regressor models with default hyper-parameters\n",
    "# Models:\n",
    "\n",
    "lg = LinearRegression()\n",
    "dcr = DecisionTreeRegressor()\n",
    "bag = BaggingRegressor()\n",
    "rfr = RandomForestRegressor()\n",
    "SVR = SVR()\n",
    "XGB = xgb.XGBRegressor()\n",
    "KNN = KNeighborsRegressor(n_neighbors=5)\n",
    "ETR = ExtraTreesRegressor()\n",
    "RE=Ridge()\n",
    "LO=linear_model.Lasso(alpha=0.1)\n",
    "\n",
    "GBR = GradientBoostingRegressor(loss='ls', learning_rate=0.1, n_estimators=100, subsample=1.0,\n",
    "                                     criterion='friedman_mse', min_samples_split=2, min_samples_leaf=1,\n",
    "                                     min_weight_fraction_leaf=0.0, max_depth=3, min_impurity_decrease=0.0,\n",
    "                                     init=None, random_state=None, max_features=None,\n",
    "                                     alpha=0.9, verbose=0, max_leaf_nodes=None, warm_start=False,\n",
    "                                     validation_fraction=0.1, n_iter_no_change=None, tol=0.0001, ccp_alpha=0.0)\n",
    "\n",
    "# Evalution matrix for all the algorithms\n",
    "\n",
    "MM = [lg, dcr, rfr, KNN, ETR, GBR, XGB, bag,RE,LO]\n",
    "\n",
    "for models in MM:\n",
    "    \n",
    "    # Fit the model with train data\n",
    "    \n",
    "    models.fit(x_train, y_train)\n",
    "    \n",
    "    # Predict the model with test data\n",
    "\n",
    "    y_pred = models.predict(x_test)\n",
    "    \n",
    "    # Print the model name\n",
    "    \n",
    "    print('Model Name: ', models)\n",
    "    \n",
    "    # Evaluation metrics for Regression analysis\n",
    "\n",
    "    from sklearn import metrics\n",
    "\n",
    "    print('Mean Absolute Error (MAE):', round(metrics.mean_absolute_error(y_test, y_pred),3))  \n",
    "    print('Mean Squared Error (MSE):', round(metrics.mean_squared_error(y_test, y_pred),3))  \n",
    "    print('Root Mean Squared Error (RMSE):', round(np.sqrt(metrics.mean_squared_error(y_test, y_pred)),3))\n",
    "    print('R2_score:', round(metrics.r2_score(y_test, y_pred),6))\n",
    "    print('Root Mean Squared Log Error (RMSLE):', round(np.log(np.sqrt(metrics.mean_squared_error(y_test, y_pred))),3))\n",
    "    \n",
    "    # Define the function to calculate the MAPE - Mean Absolute Percentage Error\n",
    "\n",
    "    def MAPE (y_test, y_pred):\n",
    "        y_test, y_pred = np.array(y_test), np.array(y_pred)\n",
    "        return np.mean(np.abs((y_test - y_pred) / y_test)) * 100\n",
    "    \n",
    "    # Evaluation of MAPE \n",
    "\n",
    "    result = MAPE(y_test, y_pred)\n",
    "    print('Mean Absolute Percentage Error (MAPE):', round(result, 2), '%')\n",
    "    \n",
    "    # Calculate Adjusted R squared values \n",
    "\n",
    "    r_squared = round(metrics.r2_score(y_test, y_pred),6)\n",
    "    adjusted_r_squared = round(1 - (1-r_squared)*(len(y)-1)/(len(y)-x.shape[1]-1),6)\n",
    "    print('Adj R Square: ', adjusted_r_squared)\n",
    "    print('------------------------------------------------------------------------------------------------------------')\n",
    "    #-------------------------------------------------------------------------------------------\n",
    "    new_row = {'Model Name' : models,\n",
    "               'Mean_Absolute_Error_MAE' : metrics.mean_absolute_error(y_test, y_pred),\n",
    "               'Adj_R_Square' : adjusted_r_squared,\n",
    "               'Root_Mean_Squared_Error_RMSE' : np.sqrt(metrics.mean_squared_error(y_test, y_pred)),\n",
    "               'Mean_Absolute_Percentage_Error_MAPE' : result,\n",
    "               'Mean_Squared_Error_MSE' : metrics.mean_squared_error(y_test, y_pred),\n",
    "               'Root_Mean_Squared_Log_Error_RMSLE': np.log(np.sqrt(metrics.mean_squared_error(y_test, y_pred))),\n",
    "               'R2_score' : metrics.r2_score(y_test, y_pred)}\n",
    "    Results = outcome.append(new_row, ignore_index=True)\n",
    "    #------------------------------------------------------------"
   ]
  },
  {
   "cell_type": "code",
   "execution_count": 60,
   "id": "00cce224",
   "metadata": {},
   "outputs": [
    {
     "data": {
      "text/html": [
       "<div>\n",
       "<style scoped>\n",
       "    .dataframe tbody tr th:only-of-type {\n",
       "        vertical-align: middle;\n",
       "    }\n",
       "\n",
       "    .dataframe tbody tr th {\n",
       "        vertical-align: top;\n",
       "    }\n",
       "\n",
       "    .dataframe thead th {\n",
       "        text-align: right;\n",
       "    }\n",
       "</style>\n",
       "<table border=\"1\" class=\"dataframe\">\n",
       "  <thead>\n",
       "    <tr style=\"text-align: right;\">\n",
       "      <th></th>\n",
       "      <th>Model Name</th>\n",
       "      <th>Mean_Absolute_Error_MAE</th>\n",
       "      <th>Adj_R_Square</th>\n",
       "      <th>Root_Mean_Squared_Error_RMSE</th>\n",
       "      <th>Mean_Absolute_Percentage_Error_MAPE</th>\n",
       "      <th>Mean_Squared_Error_MSE</th>\n",
       "      <th>Root_Mean_Squared_Log_Error_RMSLE</th>\n",
       "      <th>R2_score</th>\n",
       "    </tr>\n",
       "  </thead>\n",
       "  <tbody>\n",
       "    <tr>\n",
       "      <th>0</th>\n",
       "      <td>Lasso(alpha=0.1)</td>\n",
       "      <td>0.0</td>\n",
       "      <td>1.0</td>\n",
       "      <td>0.0</td>\n",
       "      <td>NaN</td>\n",
       "      <td>0.0</td>\n",
       "      <td>-inf</td>\n",
       "      <td>1.0</td>\n",
       "    </tr>\n",
       "  </tbody>\n",
       "</table>\n",
       "</div>"
      ],
      "text/plain": [
       "         Model Name  Mean_Absolute_Error_MAE  Adj_R_Square  \\\n",
       "0  Lasso(alpha=0.1)                      0.0           1.0   \n",
       "\n",
       "   Root_Mean_Squared_Error_RMSE  Mean_Absolute_Percentage_Error_MAPE  \\\n",
       "0                           0.0                                  NaN   \n",
       "\n",
       "   Mean_Squared_Error_MSE  Root_Mean_Squared_Log_Error_RMSLE  R2_score  \n",
       "0                     0.0                               -inf       1.0  "
      ]
     },
     "execution_count": 60,
     "metadata": {},
     "output_type": "execute_result"
    }
   ],
   "source": [
    "Results"
   ]
  },
  {
   "cell_type": "code",
   "execution_count": 61,
   "id": "a6546e83",
   "metadata": {},
   "outputs": [
    {
     "data": {
      "text/html": [
       "<div>\n",
       "<style scoped>\n",
       "    .dataframe tbody tr th:only-of-type {\n",
       "        vertical-align: middle;\n",
       "    }\n",
       "\n",
       "    .dataframe tbody tr th {\n",
       "        vertical-align: top;\n",
       "    }\n",
       "\n",
       "    .dataframe thead th {\n",
       "        text-align: right;\n",
       "    }\n",
       "</style>\n",
       "<table border=\"1\" class=\"dataframe\">\n",
       "  <thead>\n",
       "    <tr style=\"text-align: right;\">\n",
       "      <th></th>\n",
       "      <th>Model_Name</th>\n",
       "      <th>Adj_R_Square</th>\n",
       "      <th>Mean_Absolute_Error_MAE</th>\n",
       "      <th>Root_Mean_Squared_Error_RMSE</th>\n",
       "      <th>Mean_Absolute_Percentage_Error_MAPE</th>\n",
       "      <th>Mean_Squared_Error_MSE</th>\n",
       "      <th>Root_Mean_Squared_Log_Error_RMSLE</th>\n",
       "      <th>R2_score</th>\n",
       "    </tr>\n",
       "  </thead>\n",
       "  <tbody>\n",
       "    <tr>\n",
       "      <th>0</th>\n",
       "      <td>LinearRegression</td>\n",
       "      <td>1.0</td>\n",
       "      <td>0.0</td>\n",
       "      <td>0.0</td>\n",
       "      <td>NaN</td>\n",
       "      <td>0.0</td>\n",
       "      <td>-inf</td>\n",
       "      <td>1.0</td>\n",
       "    </tr>\n",
       "    <tr>\n",
       "      <th>1</th>\n",
       "      <td>DecisionTreeRegressor</td>\n",
       "      <td>NaN</td>\n",
       "      <td>NaN</td>\n",
       "      <td>NaN</td>\n",
       "      <td>NaN</td>\n",
       "      <td>NaN</td>\n",
       "      <td>NaN</td>\n",
       "      <td>NaN</td>\n",
       "    </tr>\n",
       "    <tr>\n",
       "      <th>2</th>\n",
       "      <td>RandomForestRegressor</td>\n",
       "      <td>NaN</td>\n",
       "      <td>NaN</td>\n",
       "      <td>NaN</td>\n",
       "      <td>NaN</td>\n",
       "      <td>NaN</td>\n",
       "      <td>NaN</td>\n",
       "      <td>NaN</td>\n",
       "    </tr>\n",
       "    <tr>\n",
       "      <th>3</th>\n",
       "      <td>KNeighborsRegressor</td>\n",
       "      <td>NaN</td>\n",
       "      <td>NaN</td>\n",
       "      <td>NaN</td>\n",
       "      <td>NaN</td>\n",
       "      <td>NaN</td>\n",
       "      <td>NaN</td>\n",
       "      <td>NaN</td>\n",
       "    </tr>\n",
       "    <tr>\n",
       "      <th>4</th>\n",
       "      <td>ExtraTreesRegressor</td>\n",
       "      <td>NaN</td>\n",
       "      <td>NaN</td>\n",
       "      <td>NaN</td>\n",
       "      <td>NaN</td>\n",
       "      <td>NaN</td>\n",
       "      <td>NaN</td>\n",
       "      <td>NaN</td>\n",
       "    </tr>\n",
       "    <tr>\n",
       "      <th>5</th>\n",
       "      <td>GradientBoostingRegressor</td>\n",
       "      <td>NaN</td>\n",
       "      <td>NaN</td>\n",
       "      <td>NaN</td>\n",
       "      <td>NaN</td>\n",
       "      <td>NaN</td>\n",
       "      <td>NaN</td>\n",
       "      <td>NaN</td>\n",
       "    </tr>\n",
       "    <tr>\n",
       "      <th>6</th>\n",
       "      <td>XGBRegressor</td>\n",
       "      <td>NaN</td>\n",
       "      <td>NaN</td>\n",
       "      <td>NaN</td>\n",
       "      <td>NaN</td>\n",
       "      <td>NaN</td>\n",
       "      <td>NaN</td>\n",
       "      <td>NaN</td>\n",
       "    </tr>\n",
       "    <tr>\n",
       "      <th>7</th>\n",
       "      <td>BaggingRegressor</td>\n",
       "      <td>NaN</td>\n",
       "      <td>NaN</td>\n",
       "      <td>NaN</td>\n",
       "      <td>NaN</td>\n",
       "      <td>NaN</td>\n",
       "      <td>NaN</td>\n",
       "      <td>NaN</td>\n",
       "    </tr>\n",
       "    <tr>\n",
       "      <th>8</th>\n",
       "      <td>Ridge Regression</td>\n",
       "      <td>NaN</td>\n",
       "      <td>NaN</td>\n",
       "      <td>NaN</td>\n",
       "      <td>NaN</td>\n",
       "      <td>NaN</td>\n",
       "      <td>NaN</td>\n",
       "      <td>NaN</td>\n",
       "    </tr>\n",
       "    <tr>\n",
       "      <th>9</th>\n",
       "      <td>Lasso Regression</td>\n",
       "      <td>NaN</td>\n",
       "      <td>NaN</td>\n",
       "      <td>NaN</td>\n",
       "      <td>NaN</td>\n",
       "      <td>NaN</td>\n",
       "      <td>NaN</td>\n",
       "      <td>NaN</td>\n",
       "    </tr>\n",
       "  </tbody>\n",
       "</table>\n",
       "</div>"
      ],
      "text/plain": [
       "                  Model_Name  Adj_R_Square  Mean_Absolute_Error_MAE  \\\n",
       "0           LinearRegression           1.0                      0.0   \n",
       "1      DecisionTreeRegressor           NaN                      NaN   \n",
       "2      RandomForestRegressor           NaN                      NaN   \n",
       "3        KNeighborsRegressor           NaN                      NaN   \n",
       "4        ExtraTreesRegressor           NaN                      NaN   \n",
       "5  GradientBoostingRegressor           NaN                      NaN   \n",
       "6               XGBRegressor           NaN                      NaN   \n",
       "7           BaggingRegressor           NaN                      NaN   \n",
       "8           Ridge Regression           NaN                      NaN   \n",
       "9           Lasso Regression           NaN                      NaN   \n",
       "\n",
       "   Root_Mean_Squared_Error_RMSE  Mean_Absolute_Percentage_Error_MAPE  \\\n",
       "0                           0.0                                  NaN   \n",
       "1                           NaN                                  NaN   \n",
       "2                           NaN                                  NaN   \n",
       "3                           NaN                                  NaN   \n",
       "4                           NaN                                  NaN   \n",
       "5                           NaN                                  NaN   \n",
       "6                           NaN                                  NaN   \n",
       "7                           NaN                                  NaN   \n",
       "8                           NaN                                  NaN   \n",
       "9                           NaN                                  NaN   \n",
       "\n",
       "   Mean_Squared_Error_MSE  Root_Mean_Squared_Log_Error_RMSLE  R2_score  \n",
       "0                     0.0                               -inf       1.0  \n",
       "1                     NaN                                NaN       NaN  \n",
       "2                     NaN                                NaN       NaN  \n",
       "3                     NaN                                NaN       NaN  \n",
       "4                     NaN                                NaN       NaN  \n",
       "5                     NaN                                NaN       NaN  \n",
       "6                     NaN                                NaN       NaN  \n",
       "7                     NaN                                NaN       NaN  \n",
       "8                     NaN                                NaN       NaN  \n",
       "9                     NaN                                NaN       NaN  "
      ]
     },
     "execution_count": 61,
     "metadata": {},
     "output_type": "execute_result"
    }
   ],
   "source": [
    "models=['LinearRegression','DecisionTreeRegressor','RandomForestRegressor','KNeighborsRegressor','ExtraTreesRegressor','GradientBoostingRegressor','XGBRegressor','BaggingRegressor','Ridge Regression','Lasso Regression']\n",
    "result=pd.DataFrame({'Model_Name':models})\n",
    "result['Adj_R_Square']=Results['Adj_R_Square']\n",
    "result['Mean_Absolute_Error_MAE']=Results['Mean_Absolute_Error_MAE']\n",
    "result['Root_Mean_Squared_Error_RMSE']=Results['Root_Mean_Squared_Error_RMSE']\n",
    "result['Mean_Absolute_Percentage_Error_MAPE']=Results['Mean_Absolute_Percentage_Error_MAPE']\n",
    "result['Mean_Squared_Error_MSE']=Results['Mean_Squared_Error_MSE']\n",
    "result['Root_Mean_Squared_Log_Error_RMSLE']=Results['Root_Mean_Squared_Log_Error_RMSLE']\n",
    "result['R2_score']=Results['R2_score']\n",
    "result=result.sort_values(by='Adj_R_Square',ascending=False).reset_index(drop=True)\n",
    "result"
   ]
  },
  {
   "cell_type": "code",
   "execution_count": 62,
   "id": "2b07e108",
   "metadata": {},
   "outputs": [
    {
     "data": {
      "text/plain": [
       "array([[-1.14636101,  0.        ,  0.        , ...,  0.        ,\n",
       "         0.        ,  0.        ],\n",
       "       [-1.14636101,  0.        ,  0.        , ...,  0.        ,\n",
       "         0.        ,  0.        ],\n",
       "       [-1.14636101,  0.        ,  0.        , ...,  0.        ,\n",
       "         0.        ,  0.        ],\n",
       "       ...,\n",
       "       [ 0.13329779,  0.        ,  0.        , ...,  0.        ,\n",
       "         0.        ,  0.        ],\n",
       "       [ 0.77312719,  0.        ,  0.        , ...,  0.        ,\n",
       "         0.        ,  0.        ],\n",
       "       [ 0.13329779,  0.        ,  0.        , ...,  0.        ,\n",
       "         0.        ,  0.        ]])"
      ]
     },
     "execution_count": 62,
     "metadata": {},
     "output_type": "execute_result"
    }
   ],
   "source": [
    "from sklearn.preprocessing import StandardScaler\n",
    "# Data Scaling Formula Z=(x-mean)/std\n",
    "scaler = StandardScaler()\n",
    "X_scaled=scaler.fit_transform(x)\n",
    "X_scaled"
   ]
  },
  {
   "cell_type": "code",
   "execution_count": 63,
   "id": "6099d93f",
   "metadata": {},
   "outputs": [
    {
     "data": {
      "text/html": [
       "<style>#sk-container-id-1 {color: black;background-color: white;}#sk-container-id-1 pre{padding: 0;}#sk-container-id-1 div.sk-toggleable {background-color: white;}#sk-container-id-1 label.sk-toggleable__label {cursor: pointer;display: block;width: 100%;margin-bottom: 0;padding: 0.3em;box-sizing: border-box;text-align: center;}#sk-container-id-1 label.sk-toggleable__label-arrow:before {content: \"▸\";float: left;margin-right: 0.25em;color: #696969;}#sk-container-id-1 label.sk-toggleable__label-arrow:hover:before {color: black;}#sk-container-id-1 div.sk-estimator:hover label.sk-toggleable__label-arrow:before {color: black;}#sk-container-id-1 div.sk-toggleable__content {max-height: 0;max-width: 0;overflow: hidden;text-align: left;background-color: #f0f8ff;}#sk-container-id-1 div.sk-toggleable__content pre {margin: 0.2em;color: black;border-radius: 0.25em;background-color: #f0f8ff;}#sk-container-id-1 input.sk-toggleable__control:checked~div.sk-toggleable__content {max-height: 200px;max-width: 100%;overflow: auto;}#sk-container-id-1 input.sk-toggleable__control:checked~label.sk-toggleable__label-arrow:before {content: \"▾\";}#sk-container-id-1 div.sk-estimator input.sk-toggleable__control:checked~label.sk-toggleable__label {background-color: #d4ebff;}#sk-container-id-1 div.sk-label input.sk-toggleable__control:checked~label.sk-toggleable__label {background-color: #d4ebff;}#sk-container-id-1 input.sk-hidden--visually {border: 0;clip: rect(1px 1px 1px 1px);clip: rect(1px, 1px, 1px, 1px);height: 1px;margin: -1px;overflow: hidden;padding: 0;position: absolute;width: 1px;}#sk-container-id-1 div.sk-estimator {font-family: monospace;background-color: #f0f8ff;border: 1px dotted black;border-radius: 0.25em;box-sizing: border-box;margin-bottom: 0.5em;}#sk-container-id-1 div.sk-estimator:hover {background-color: #d4ebff;}#sk-container-id-1 div.sk-parallel-item::after {content: \"\";width: 100%;border-bottom: 1px solid gray;flex-grow: 1;}#sk-container-id-1 div.sk-label:hover label.sk-toggleable__label {background-color: #d4ebff;}#sk-container-id-1 div.sk-serial::before {content: \"\";position: absolute;border-left: 1px solid gray;box-sizing: border-box;top: 0;bottom: 0;left: 50%;z-index: 0;}#sk-container-id-1 div.sk-serial {display: flex;flex-direction: column;align-items: center;background-color: white;padding-right: 0.2em;padding-left: 0.2em;position: relative;}#sk-container-id-1 div.sk-item {position: relative;z-index: 1;}#sk-container-id-1 div.sk-parallel {display: flex;align-items: stretch;justify-content: center;background-color: white;position: relative;}#sk-container-id-1 div.sk-item::before, #sk-container-id-1 div.sk-parallel-item::before {content: \"\";position: absolute;border-left: 1px solid gray;box-sizing: border-box;top: 0;bottom: 0;left: 50%;z-index: -1;}#sk-container-id-1 div.sk-parallel-item {display: flex;flex-direction: column;z-index: 1;position: relative;background-color: white;}#sk-container-id-1 div.sk-parallel-item:first-child::after {align-self: flex-end;width: 50%;}#sk-container-id-1 div.sk-parallel-item:last-child::after {align-self: flex-start;width: 50%;}#sk-container-id-1 div.sk-parallel-item:only-child::after {width: 0;}#sk-container-id-1 div.sk-dashed-wrapped {border: 1px dashed gray;margin: 0 0.4em 0.5em 0.4em;box-sizing: border-box;padding-bottom: 0.4em;background-color: white;}#sk-container-id-1 div.sk-label label {font-family: monospace;font-weight: bold;display: inline-block;line-height: 1.2em;}#sk-container-id-1 div.sk-label-container {text-align: center;}#sk-container-id-1 div.sk-container {/* jupyter's `normalize.less` sets `[hidden] { display: none; }` but bootstrap.min.css set `[hidden] { display: none !important; }` so we also need the `!important` here to be able to override the default hidden behavior on the sphinx rendered scikit-learn.org. See: https://github.com/scikit-learn/scikit-learn/issues/21755 */display: inline-block !important;position: relative;}#sk-container-id-1 div.sk-text-repr-fallback {display: none;}</style><div id=\"sk-container-id-1\" class=\"sk-top-container\"><div class=\"sk-text-repr-fallback\"><pre>LinearRegression()</pre><b>In a Jupyter environment, please rerun this cell to show the HTML representation or trust the notebook. <br />On GitHub, the HTML representation is unable to render, please try loading this page with nbviewer.org.</b></div><div class=\"sk-container\" hidden><div class=\"sk-item\"><div class=\"sk-estimator sk-toggleable\"><input class=\"sk-toggleable__control sk-hidden--visually\" id=\"sk-estimator-id-1\" type=\"checkbox\" checked><label for=\"sk-estimator-id-1\" class=\"sk-toggleable__label sk-toggleable__label-arrow\">LinearRegression</label><div class=\"sk-toggleable__content\"><pre>LinearRegression()</pre></div></div></div></div></div>"
      ],
      "text/plain": [
       "LinearRegression()"
      ]
     },
     "execution_count": 63,
     "metadata": {},
     "output_type": "execute_result"
    }
   ],
   "source": [
    "regression=LinearRegression()\n",
    "regression.fit(x_train,y_train)"
   ]
  },
  {
   "cell_type": "code",
   "execution_count": 64,
   "id": "e54503ca",
   "metadata": {},
   "outputs": [
    {
     "data": {
      "text/plain": [
       "1.0"
      ]
     },
     "execution_count": 64,
     "metadata": {},
     "output_type": "execute_result"
    }
   ],
   "source": [
    "# Adjusted R2 score\n",
    "regression.score(x_train,y_train)"
   ]
  },
  {
   "cell_type": "code",
   "execution_count": 65,
   "id": "5823ce85",
   "metadata": {},
   "outputs": [
    {
     "data": {
      "text/plain": [
       "1.0"
      ]
     },
     "execution_count": 65,
     "metadata": {},
     "output_type": "execute_result"
    }
   ],
   "source": [
    "regression.score(x_test,y_test)"
   ]
  },
  {
   "cell_type": "code",
   "execution_count": 66,
   "id": "90cd450c",
   "metadata": {},
   "outputs": [
    {
     "data": {
      "text/plain": [
       "array([0., 0., 0., 0., 0., 0., 0., 0., 0., 0., 0., 0., 0., 0., 0., 0., 0.,\n",
       "       0., 0., 0., 0., 0., 0., 0., 0., 0., 0., 0., 0., 0., 0., 0., 0., 0.,\n",
       "       0., 0., 0., 0., 0., 0., 0., 0., 0., 0.])"
      ]
     },
     "execution_count": 66,
     "metadata": {},
     "output_type": "execute_result"
    }
   ],
   "source": [
    "y_pred = regression.predict(x_test)\n",
    "y_pred"
   ]
  },
  {
   "cell_type": "markdown",
   "id": "f15c8307",
   "metadata": {},
   "source": [
    "BIVARIATE ANALYSIS"
   ]
  },
  {
   "cell_type": "code",
   "execution_count": 67,
   "id": "192e5ffc",
   "metadata": {},
   "outputs": [
    {
     "data": {
      "text/plain": [
       "<function matplotlib.pyplot.show(close=None, block=None)>"
      ]
     },
     "execution_count": 67,
     "metadata": {},
     "output_type": "execute_result"
    },
    {
     "data": {
      "image/png": "[encoded data removed]",
      "text/plain": [
       "<Figure size 432x288 with 1 Axes>"
      ]
     },
     "metadata": {
      "needs_background": "light"
     },
     "output_type": "display_data"
    }
   ],
   "source": [
    "plt.scatter(y_test,y_pred)\n",
    "plt.xlabel('Actual Price')\n",
    "plt.ylabel('Predicted Price')\n",
    "plt.title('Actual vs model predicted')\n",
    "plt.show"
   ]
  },
  {
   "cell_type": "markdown",
   "id": "12811e8e",
   "metadata": {},
   "source": [
    "MODEL EVALUATION"
   ]
  },
  {
   "cell_type": "code",
   "execution_count": 68,
   "id": "8611ad3a",
   "metadata": {},
   "outputs": [],
   "source": [
    "from sklearn.metrics import mean_squared_error, mean_absolute_error\n",
    "y_pred=regression.predict(x_test)"
   ]
  },
  {
   "cell_type": "code",
   "execution_count": 69,
   "id": "01475e8e",
   "metadata": {},
   "outputs": [
    {
     "data": {
      "text/plain": [
       "0.0"
      ]
     },
     "execution_count": 69,
     "metadata": {},
     "output_type": "execute_result"
    }
   ],
   "source": [
    "mean_absolute_error(y_test,y_pred)"
   ]
  },
  {
   "cell_type": "code",
   "execution_count": 70,
   "id": "b8109e57",
   "metadata": {},
   "outputs": [
    {
     "data": {
      "text/plain": [
       "0.0"
      ]
     },
     "execution_count": 70,
     "metadata": {},
     "output_type": "execute_result"
    }
   ],
   "source": [
    "mean_squared_error(y_test,y_pred)"
   ]
  },
  {
   "cell_type": "code",
   "execution_count": 71,
   "id": "8788c4e5",
   "metadata": {},
   "outputs": [
    {
     "data": {
      "text/plain": [
       "0.0"
      ]
     },
     "execution_count": 71,
     "metadata": {},
     "output_type": "execute_result"
    }
   ],
   "source": [
    "np.sqrt(mean_squared_error(y_test,y_pred))"
   ]
  },
  {
   "cell_type": "code",
   "execution_count": 72,
   "id": "7d987797",
   "metadata": {},
   "outputs": [
    {
     "data": {
      "text/html": [
       "<style>#sk-container-id-2 {color: black;background-color: white;}#sk-container-id-2 pre{padding: 0;}#sk-container-id-2 div.sk-toggleable {background-color: white;}#sk-container-id-2 label.sk-toggleable__label {cursor: pointer;display: block;width: 100%;margin-bottom: 0;padding: 0.3em;box-sizing: border-box;text-align: center;}#sk-container-id-2 label.sk-toggleable__label-arrow:before {content: \"▸\";float: left;margin-right: 0.25em;color: #696969;}#sk-container-id-2 label.sk-toggleable__label-arrow:hover:before {color: black;}#sk-container-id-2 div.sk-estimator:hover label.sk-toggleable__label-arrow:before {color: black;}#sk-container-id-2 div.sk-toggleable__content {max-height: 0;max-width: 0;overflow: hidden;text-align: left;background-color: #f0f8ff;}#sk-container-id-2 div.sk-toggleable__content pre {margin: 0.2em;color: black;border-radius: 0.25em;background-color: #f0f8ff;}#sk-container-id-2 input.sk-toggleable__control:checked~div.sk-toggleable__content {max-height: 200px;max-width: 100%;overflow: auto;}#sk-container-id-2 input.sk-toggleable__control:checked~label.sk-toggleable__label-arrow:before {content: \"▾\";}#sk-container-id-2 div.sk-estimator input.sk-toggleable__control:checked~label.sk-toggleable__label {background-color: #d4ebff;}#sk-container-id-2 div.sk-label input.sk-toggleable__control:checked~label.sk-toggleable__label {background-color: #d4ebff;}#sk-container-id-2 input.sk-hidden--visually {border: 0;clip: rect(1px 1px 1px 1px);clip: rect(1px, 1px, 1px, 1px);height: 1px;margin: -1px;overflow: hidden;padding: 0;position: absolute;width: 1px;}#sk-container-id-2 div.sk-estimator {font-family: monospace;background-color: #f0f8ff;border: 1px dotted black;border-radius: 0.25em;box-sizing: border-box;margin-bottom: 0.5em;}#sk-container-id-2 div.sk-estimator:hover {background-color: #d4ebff;}#sk-container-id-2 div.sk-parallel-item::after {content: \"\";width: 100%;border-bottom: 1px solid gray;flex-grow: 1;}#sk-container-id-2 div.sk-label:hover label.sk-toggleable__label {background-color: #d4ebff;}#sk-container-id-2 div.sk-serial::before {content: \"\";position: absolute;border-left: 1px solid gray;box-sizing: border-box;top: 0;bottom: 0;left: 50%;z-index: 0;}#sk-container-id-2 div.sk-serial {display: flex;flex-direction: column;align-items: center;background-color: white;padding-right: 0.2em;padding-left: 0.2em;position: relative;}#sk-container-id-2 div.sk-item {position: relative;z-index: 1;}#sk-container-id-2 div.sk-parallel {display: flex;align-items: stretch;justify-content: center;background-color: white;position: relative;}#sk-container-id-2 div.sk-item::before, #sk-container-id-2 div.sk-parallel-item::before {content: \"\";position: absolute;border-left: 1px solid gray;box-sizing: border-box;top: 0;bottom: 0;left: 50%;z-index: -1;}#sk-container-id-2 div.sk-parallel-item {display: flex;flex-direction: column;z-index: 1;position: relative;background-color: white;}#sk-container-id-2 div.sk-parallel-item:first-child::after {align-self: flex-end;width: 50%;}#sk-container-id-2 div.sk-parallel-item:last-child::after {align-self: flex-start;width: 50%;}#sk-container-id-2 div.sk-parallel-item:only-child::after {width: 0;}#sk-container-id-2 div.sk-dashed-wrapped {border: 1px dashed gray;margin: 0 0.4em 0.5em 0.4em;box-sizing: border-box;padding-bottom: 0.4em;background-color: white;}#sk-container-id-2 div.sk-label label {font-family: monospace;font-weight: bold;display: inline-block;line-height: 1.2em;}#sk-container-id-2 div.sk-label-container {text-align: center;}#sk-container-id-2 div.sk-container {/* jupyter's `normalize.less` sets `[hidden] { display: none; }` but bootstrap.min.css set `[hidden] { display: none !important; }` so we also need the `!important` here to be able to override the default hidden behavior on the sphinx rendered scikit-learn.org. See: https://github.com/scikit-learn/scikit-learn/issues/21755 */display: inline-block !important;position: relative;}#sk-container-id-2 div.sk-text-repr-fallback {display: none;}</style><div id=\"sk-container-id-2\" class=\"sk-top-container\"><div class=\"sk-text-repr-fallback\"><pre>LassoCV(max_iter=100, normalize=True)</pre><b>In a Jupyter environment, please rerun this cell to show the HTML representation or trust the notebook. <br />On GitHub, the HTML representation is unable to render, please try loading this page with nbviewer.org.</b></div><div class=\"sk-container\" hidden><div class=\"sk-item\"><div class=\"sk-estimator sk-toggleable\"><input class=\"sk-toggleable__control sk-hidden--visually\" id=\"sk-estimator-id-2\" type=\"checkbox\" checked><label for=\"sk-estimator-id-2\" class=\"sk-toggleable__label sk-toggleable__label-arrow\">LassoCV</label><div class=\"sk-toggleable__content\"><pre>LassoCV(max_iter=100, normalize=True)</pre></div></div></div></div></div>"
      ],
      "text/plain": [
       "LassoCV(max_iter=100, normalize=True)"
      ]
     },
     "execution_count": 72,
     "metadata": {},
     "output_type": "execute_result"
    }
   ],
   "source": [
    "from sklearn.linear_model  import Ridge,Lasso,RidgeCV, LassoCV\n",
    "from sklearn.model_selection import GridSearchCV\n",
    "# LassoCV will return bestalpha after max iteration\n",
    "#Normalize is subtracting the mean and dividing by the L2-norm\n",
    "\n",
    "lassoregularization=Lasso()\n",
    "parameters={'alpha':[1,2,5,10,20,30,40,50,60,70,80,90]}\n",
    "\n",
    "lasscv=GridSearchCV(lassoregularization,parameters,scoring='neg_mean_squared_error', n_jobs=-1,cv=5)\n",
    "\n",
    "\n",
    "lasscv  =  LassoCV(alphas  =  None, max_iter  =  100, normalize  =  True)\n",
    "lasscv.fit(x_train, y_train)"
   ]
  },
  {
   "cell_type": "code",
   "execution_count": 73,
   "id": "84d6caf6",
   "metadata": {},
   "outputs": [
    {
     "data": {
      "text/plain": [
       "1e-15"
      ]
     },
     "execution_count": 73,
     "metadata": {},
     "output_type": "execute_result"
    }
   ],
   "source": [
    "#best alpha parameter\n",
    "alpha  =  lasscv.alpha_\n",
    "alpha"
   ]
  },
  {
   "cell_type": "code",
   "execution_count": 74,
   "id": "fa806d08",
   "metadata": {},
   "outputs": [
    {
     "data": {
      "text/html": [
       "<style>#sk-container-id-3 {color: black;background-color: white;}#sk-container-id-3 pre{padding: 0;}#sk-container-id-3 div.sk-toggleable {background-color: white;}#sk-container-id-3 label.sk-toggleable__label {cursor: pointer;display: block;width: 100%;margin-bottom: 0;padding: 0.3em;box-sizing: border-box;text-align: center;}#sk-container-id-3 label.sk-toggleable__label-arrow:before {content: \"▸\";float: left;margin-right: 0.25em;color: #696969;}#sk-container-id-3 label.sk-toggleable__label-arrow:hover:before {color: black;}#sk-container-id-3 div.sk-estimator:hover label.sk-toggleable__label-arrow:before {color: black;}#sk-container-id-3 div.sk-toggleable__content {max-height: 0;max-width: 0;overflow: hidden;text-align: left;background-color: #f0f8ff;}#sk-container-id-3 div.sk-toggleable__content pre {margin: 0.2em;color: black;border-radius: 0.25em;background-color: #f0f8ff;}#sk-container-id-3 input.sk-toggleable__control:checked~div.sk-toggleable__content {max-height: 200px;max-width: 100%;overflow: auto;}#sk-container-id-3 input.sk-toggleable__control:checked~label.sk-toggleable__label-arrow:before {content: \"▾\";}#sk-container-id-3 div.sk-estimator input.sk-toggleable__control:checked~label.sk-toggleable__label {background-color: #d4ebff;}#sk-container-id-3 div.sk-label input.sk-toggleable__control:checked~label.sk-toggleable__label {background-color: #d4ebff;}#sk-container-id-3 input.sk-hidden--visually {border: 0;clip: rect(1px 1px 1px 1px);clip: rect(1px, 1px, 1px, 1px);height: 1px;margin: -1px;overflow: hidden;padding: 0;position: absolute;width: 1px;}#sk-container-id-3 div.sk-estimator {font-family: monospace;background-color: #f0f8ff;border: 1px dotted black;border-radius: 0.25em;box-sizing: border-box;margin-bottom: 0.5em;}#sk-container-id-3 div.sk-estimator:hover {background-color: #d4ebff;}#sk-container-id-3 div.sk-parallel-item::after {content: \"\";width: 100%;border-bottom: 1px solid gray;flex-grow: 1;}#sk-container-id-3 div.sk-label:hover label.sk-toggleable__label {background-color: #d4ebff;}#sk-container-id-3 div.sk-serial::before {content: \"\";position: absolute;border-left: 1px solid gray;box-sizing: border-box;top: 0;bottom: 0;left: 50%;z-index: 0;}#sk-container-id-3 div.sk-serial {display: flex;flex-direction: column;align-items: center;background-color: white;padding-right: 0.2em;padding-left: 0.2em;position: relative;}#sk-container-id-3 div.sk-item {position: relative;z-index: 1;}#sk-container-id-3 div.sk-parallel {display: flex;align-items: stretch;justify-content: center;background-color: white;position: relative;}#sk-container-id-3 div.sk-item::before, #sk-container-id-3 div.sk-parallel-item::before {content: \"\";position: absolute;border-left: 1px solid gray;box-sizing: border-box;top: 0;bottom: 0;left: 50%;z-index: -1;}#sk-container-id-3 div.sk-parallel-item {display: flex;flex-direction: column;z-index: 1;position: relative;background-color: white;}#sk-container-id-3 div.sk-parallel-item:first-child::after {align-self: flex-end;width: 50%;}#sk-container-id-3 div.sk-parallel-item:last-child::after {align-self: flex-start;width: 50%;}#sk-container-id-3 div.sk-parallel-item:only-child::after {width: 0;}#sk-container-id-3 div.sk-dashed-wrapped {border: 1px dashed gray;margin: 0 0.4em 0.5em 0.4em;box-sizing: border-box;padding-bottom: 0.4em;background-color: white;}#sk-container-id-3 div.sk-label label {font-family: monospace;font-weight: bold;display: inline-block;line-height: 1.2em;}#sk-container-id-3 div.sk-label-container {text-align: center;}#sk-container-id-3 div.sk-container {/* jupyter's `normalize.less` sets `[hidden] { display: none; }` but bootstrap.min.css set `[hidden] { display: none !important; }` so we also need the `!important` here to be able to override the default hidden behavior on the sphinx rendered scikit-learn.org. See: https://github.com/scikit-learn/scikit-learn/issues/21755 */display: inline-block !important;position: relative;}#sk-container-id-3 div.sk-text-repr-fallback {display: none;}</style><div id=\"sk-container-id-3\" class=\"sk-top-container\"><div class=\"sk-text-repr-fallback\"><pre>Lasso(alpha=1e-15)</pre><b>In a Jupyter environment, please rerun this cell to show the HTML representation or trust the notebook. <br />On GitHub, the HTML representation is unable to render, please try loading this page with nbviewer.org.</b></div><div class=\"sk-container\" hidden><div class=\"sk-item\"><div class=\"sk-estimator sk-toggleable\"><input class=\"sk-toggleable__control sk-hidden--visually\" id=\"sk-estimator-id-3\" type=\"checkbox\" checked><label for=\"sk-estimator-id-3\" class=\"sk-toggleable__label sk-toggleable__label-arrow\">Lasso</label><div class=\"sk-toggleable__content\"><pre>Lasso(alpha=1e-15)</pre></div></div></div></div></div>"
      ],
      "text/plain": [
       "Lasso(alpha=1e-15)"
      ]
     },
     "execution_count": 74,
     "metadata": {},
     "output_type": "execute_result"
    }
   ],
   "source": [
    "#now that we have best parameter, Let's use Lasso regression and see how well our data has fitted before\n",
    "\n",
    "lasso_reg  =  Lasso(alpha)\n",
    "lasso_reg.fit(x_train, y_train)"
   ]
  },
  {
   "cell_type": "code",
   "execution_count": 75,
   "id": "6a4e88b4",
   "metadata": {},
   "outputs": [
    {
     "data": {
      "text/plain": [
       "1.0"
      ]
     },
     "execution_count": 75,
     "metadata": {},
     "output_type": "execute_result"
    }
   ],
   "source": [
    "lasso_reg.score(x_test,y_test)"
   ]
  },
  {
   "cell_type": "code",
   "execution_count": 76,
   "id": "af001f78",
   "metadata": {},
   "outputs": [
    {
     "data": {
      "text/html": [
       "<style>#sk-container-id-4 {color: black;background-color: white;}#sk-container-id-4 pre{padding: 0;}#sk-container-id-4 div.sk-toggleable {background-color: white;}#sk-container-id-4 label.sk-toggleable__label {cursor: pointer;display: block;width: 100%;margin-bottom: 0;padding: 0.3em;box-sizing: border-box;text-align: center;}#sk-container-id-4 label.sk-toggleable__label-arrow:before {content: \"▸\";float: left;margin-right: 0.25em;color: #696969;}#sk-container-id-4 label.sk-toggleable__label-arrow:hover:before {color: black;}#sk-container-id-4 div.sk-estimator:hover label.sk-toggleable__label-arrow:before {color: black;}#sk-container-id-4 div.sk-toggleable__content {max-height: 0;max-width: 0;overflow: hidden;text-align: left;background-color: #f0f8ff;}#sk-container-id-4 div.sk-toggleable__content pre {margin: 0.2em;color: black;border-radius: 0.25em;background-color: #f0f8ff;}#sk-container-id-4 input.sk-toggleable__control:checked~div.sk-toggleable__content {max-height: 200px;max-width: 100%;overflow: auto;}#sk-container-id-4 input.sk-toggleable__control:checked~label.sk-toggleable__label-arrow:before {content: \"▾\";}#sk-container-id-4 div.sk-estimator input.sk-toggleable__control:checked~label.sk-toggleable__label {background-color: #d4ebff;}#sk-container-id-4 div.sk-label input.sk-toggleable__control:checked~label.sk-toggleable__label {background-color: #d4ebff;}#sk-container-id-4 input.sk-hidden--visually {border: 0;clip: rect(1px 1px 1px 1px);clip: rect(1px, 1px, 1px, 1px);height: 1px;margin: -1px;overflow: hidden;padding: 0;position: absolute;width: 1px;}#sk-container-id-4 div.sk-estimator {font-family: monospace;background-color: #f0f8ff;border: 1px dotted black;border-radius: 0.25em;box-sizing: border-box;margin-bottom: 0.5em;}#sk-container-id-4 div.sk-estimator:hover {background-color: #d4ebff;}#sk-container-id-4 div.sk-parallel-item::after {content: \"\";width: 100%;border-bottom: 1px solid gray;flex-grow: 1;}#sk-container-id-4 div.sk-label:hover label.sk-toggleable__label {background-color: #d4ebff;}#sk-container-id-4 div.sk-serial::before {content: \"\";position: absolute;border-left: 1px solid gray;box-sizing: border-box;top: 0;bottom: 0;left: 50%;z-index: 0;}#sk-container-id-4 div.sk-serial {display: flex;flex-direction: column;align-items: center;background-color: white;padding-right: 0.2em;padding-left: 0.2em;position: relative;}#sk-container-id-4 div.sk-item {position: relative;z-index: 1;}#sk-container-id-4 div.sk-parallel {display: flex;align-items: stretch;justify-content: center;background-color: white;position: relative;}#sk-container-id-4 div.sk-item::before, #sk-container-id-4 div.sk-parallel-item::before {content: \"\";position: absolute;border-left: 1px solid gray;box-sizing: border-box;top: 0;bottom: 0;left: 50%;z-index: -1;}#sk-container-id-4 div.sk-parallel-item {display: flex;flex-direction: column;z-index: 1;position: relative;background-color: white;}#sk-container-id-4 div.sk-parallel-item:first-child::after {align-self: flex-end;width: 50%;}#sk-container-id-4 div.sk-parallel-item:last-child::after {align-self: flex-start;width: 50%;}#sk-container-id-4 div.sk-parallel-item:only-child::after {width: 0;}#sk-container-id-4 div.sk-dashed-wrapped {border: 1px dashed gray;margin: 0 0.4em 0.5em 0.4em;box-sizing: border-box;padding-bottom: 0.4em;background-color: white;}#sk-container-id-4 div.sk-label label {font-family: monospace;font-weight: bold;display: inline-block;line-height: 1.2em;}#sk-container-id-4 div.sk-label-container {text-align: center;}#sk-container-id-4 div.sk-container {/* jupyter's `normalize.less` sets `[hidden] { display: none; }` but bootstrap.min.css set `[hidden] { display: none !important; }` so we also need the `!important` here to be able to override the default hidden behavior on the sphinx rendered scikit-learn.org. See: https://github.com/scikit-learn/scikit-learn/issues/21755 */display: inline-block !important;position: relative;}#sk-container-id-4 div.sk-text-repr-fallback {display: none;}</style><div id=\"sk-container-id-4\" class=\"sk-top-container\"><div class=\"sk-text-repr-fallback\"><pre>GridSearchCV(cv=5, estimator=Ridge(),\n",
       "             param_grid={&#x27;alpha&#x27;: [1, 2, 5, 10, 20, 30, 40, 50, 60, 70, 80,\n",
       "                                   90]},\n",
       "             scoring=&#x27;neg_mean_squared_error&#x27;)</pre><b>In a Jupyter environment, please rerun this cell to show the HTML representation or trust the notebook. <br />On GitHub, the HTML representation is unable to render, please try loading this page with nbviewer.org.</b></div><div class=\"sk-container\" hidden><div class=\"sk-item sk-dashed-wrapped\"><div class=\"sk-label-container\"><div class=\"sk-label sk-toggleable\"><input class=\"sk-toggleable__control sk-hidden--visually\" id=\"sk-estimator-id-4\" type=\"checkbox\" ><label for=\"sk-estimator-id-4\" class=\"sk-toggleable__label sk-toggleable__label-arrow\">GridSearchCV</label><div class=\"sk-toggleable__content\"><pre>GridSearchCV(cv=5, estimator=Ridge(),\n",
       "             param_grid={&#x27;alpha&#x27;: [1, 2, 5, 10, 20, 30, 40, 50, 60, 70, 80,\n",
       "                                   90]},\n",
       "             scoring=&#x27;neg_mean_squared_error&#x27;)</pre></div></div></div><div class=\"sk-parallel\"><div class=\"sk-parallel-item\"><div class=\"sk-item\"><div class=\"sk-label-container\"><div class=\"sk-label sk-toggleable\"><input class=\"sk-toggleable__control sk-hidden--visually\" id=\"sk-estimator-id-5\" type=\"checkbox\" ><label for=\"sk-estimator-id-5\" class=\"sk-toggleable__label sk-toggleable__label-arrow\">estimator: Ridge</label><div class=\"sk-toggleable__content\"><pre>Ridge()</pre></div></div></div><div class=\"sk-serial\"><div class=\"sk-item\"><div class=\"sk-estimator sk-toggleable\"><input class=\"sk-toggleable__control sk-hidden--visually\" id=\"sk-estimator-id-6\" type=\"checkbox\" ><label for=\"sk-estimator-id-6\" class=\"sk-toggleable__label sk-toggleable__label-arrow\">Ridge</label><div class=\"sk-toggleable__content\"><pre>Ridge()</pre></div></div></div></div></div></div></div></div></div></div>"
      ],
      "text/plain": [
       "GridSearchCV(cv=5, estimator=Ridge(),\n",
       "             param_grid={'alpha': [1, 2, 5, 10, 20, 30, 40, 50, 60, 70, 80,\n",
       "                                   90]},\n",
       "             scoring='neg_mean_squared_error')"
      ]
     },
     "execution_count": 76,
     "metadata": {},
     "output_type": "execute_result"
    }
   ],
   "source": [
    "# RidgeCV will return best alpha and coefficients after performing 10 cross validations.\n",
    "\n",
    "ridge_regressor=Ridge()\n",
    "parameters={'alpha':[1,2,5,10,20,30,40,50,60,70,80,90]}\n",
    "\n",
    "ridgecv=GridSearchCV(ridge_regressor,parameters,scoring='neg_mean_squared_error',cv=5)\n",
    "\n",
    "ridgecv.fit(x_train,y_train)"
   ]
  },
  {
   "cell_type": "code",
   "execution_count": 77,
   "id": "69941376",
   "metadata": {},
   "outputs": [
    {
     "data": {
      "text/html": [
       "<div>\n",
       "<style scoped>\n",
       "    .dataframe tbody tr th:only-of-type {\n",
       "        vertical-align: middle;\n",
       "    }\n",
       "\n",
       "    .dataframe tbody tr th {\n",
       "        vertical-align: top;\n",
       "    }\n",
       "\n",
       "    .dataframe thead th {\n",
       "        text-align: right;\n",
       "    }\n",
       "</style>\n",
       "<table border=\"1\" class=\"dataframe\">\n",
       "  <thead>\n",
       "    <tr style=\"text-align: right;\">\n",
       "      <th></th>\n",
       "      <th>Airline Company</th>\n",
       "      <th>Flight Code</th>\n",
       "      <th>Departure Time</th>\n",
       "      <th>Source City</th>\n",
       "      <th>Arrival Time</th>\n",
       "      <th>Destination City</th>\n",
       "      <th>Duration</th>\n",
       "      <th>Total Stops</th>\n",
       "      <th>Price</th>\n",
       "    </tr>\n",
       "  </thead>\n",
       "  <tbody>\n",
       "    <tr>\n",
       "      <th>0</th>\n",
       "      <td>1</td>\n",
       "      <td>0</td>\n",
       "      <td>0</td>\n",
       "      <td>0</td>\n",
       "      <td>0</td>\n",
       "      <td>0</td>\n",
       "      <td>0</td>\n",
       "      <td>0</td>\n",
       "      <td>0</td>\n",
       "    </tr>\n",
       "    <tr>\n",
       "      <th>1</th>\n",
       "      <td>1</td>\n",
       "      <td>0</td>\n",
       "      <td>0</td>\n",
       "      <td>0</td>\n",
       "      <td>0</td>\n",
       "      <td>0</td>\n",
       "      <td>0</td>\n",
       "      <td>0</td>\n",
       "      <td>0</td>\n",
       "    </tr>\n",
       "  </tbody>\n",
       "</table>\n",
       "</div>"
      ],
      "text/plain": [
       "   Airline Company  Flight Code  Departure Time  Source City  Arrival Time  \\\n",
       "0                1            0               0            0             0   \n",
       "1                1            0               0            0             0   \n",
       "\n",
       "   Destination City  Duration  Total Stops  Price  \n",
       "0                 0         0            0      0  \n",
       "1                 0         0            0      0  "
      ]
     },
     "execution_count": 77,
     "metadata": {},
     "output_type": "execute_result"
    }
   ],
   "source": [
    "df.head(2)"
   ]
  },
  {
   "cell_type": "markdown",
   "id": "1a91a00f",
   "metadata": {},
   "source": [
    "SELECTING THE BEST MODEL"
   ]
  },
  {
   "cell_type": "code",
   "execution_count": 78,
   "id": "0cd325ed",
   "metadata": {},
   "outputs": [],
   "source": [
    "# Training the model with Linear regression\n",
    "lg.fit(x_train, y_train)\n",
    "\n",
    "# Predict the model with test data\n",
    "y_pred=lg.predict(x_test)"
   ]
  },
  {
   "cell_type": "code",
   "execution_count": 79,
   "id": "6d6fe890",
   "metadata": {},
   "outputs": [],
   "source": [
    "#Creating a BackUp File\n",
    "df_bk=df.copy()"
   ]
  },
  {
   "cell_type": "code",
   "execution_count": 80,
   "id": "502e0b5f",
   "metadata": {},
   "outputs": [],
   "source": [
    "out=pd.DataFrame({'Price_actual':y_test,'Price_pred':y_pred})\n",
    "result=df_bk.merge(out,left_index=True,right_index=True)"
   ]
  },
  {
   "cell_type": "code",
   "execution_count": 81,
   "id": "6192cc66",
   "metadata": {},
   "outputs": [
    {
     "data": {
      "text/html": [
       "<div>\n",
       "<style scoped>\n",
       "    .dataframe tbody tr th:only-of-type {\n",
       "        vertical-align: middle;\n",
       "    }\n",
       "\n",
       "    .dataframe tbody tr th {\n",
       "        vertical-align: top;\n",
       "    }\n",
       "\n",
       "    .dataframe thead th {\n",
       "        text-align: right;\n",
       "    }\n",
       "</style>\n",
       "<table border=\"1\" class=\"dataframe\">\n",
       "  <thead>\n",
       "    <tr style=\"text-align: right;\">\n",
       "      <th></th>\n",
       "      <th>Airline Company</th>\n",
       "      <th>Flight Code</th>\n",
       "      <th>Departure Time</th>\n",
       "      <th>Source City</th>\n",
       "      <th>Arrival Time</th>\n",
       "      <th>Destination City</th>\n",
       "      <th>Duration</th>\n",
       "      <th>Total Stops</th>\n",
       "      <th>Price</th>\n",
       "      <th>Price_actual</th>\n",
       "      <th>Price_pred</th>\n",
       "    </tr>\n",
       "  </thead>\n",
       "  <tbody>\n",
       "    <tr>\n",
       "      <th>9</th>\n",
       "      <td>4</td>\n",
       "      <td>0</td>\n",
       "      <td>0</td>\n",
       "      <td>0</td>\n",
       "      <td>0</td>\n",
       "      <td>0</td>\n",
       "      <td>0</td>\n",
       "      <td>0</td>\n",
       "      <td>0</td>\n",
       "      <td>0</td>\n",
       "      <td>0.0</td>\n",
       "    </tr>\n",
       "    <tr>\n",
       "      <th>119</th>\n",
       "      <td>2</td>\n",
       "      <td>0</td>\n",
       "      <td>0</td>\n",
       "      <td>0</td>\n",
       "      <td>0</td>\n",
       "      <td>0</td>\n",
       "      <td>0</td>\n",
       "      <td>0</td>\n",
       "      <td>0</td>\n",
       "      <td>0</td>\n",
       "      <td>0.0</td>\n",
       "    </tr>\n",
       "    <tr>\n",
       "      <th>100</th>\n",
       "      <td>1</td>\n",
       "      <td>0</td>\n",
       "      <td>0</td>\n",
       "      <td>0</td>\n",
       "      <td>0</td>\n",
       "      <td>0</td>\n",
       "      <td>0</td>\n",
       "      <td>0</td>\n",
       "      <td>0</td>\n",
       "      <td>0</td>\n",
       "      <td>0.0</td>\n",
       "    </tr>\n",
       "    <tr>\n",
       "      <th>133</th>\n",
       "      <td>3</td>\n",
       "      <td>0</td>\n",
       "      <td>0</td>\n",
       "      <td>0</td>\n",
       "      <td>0</td>\n",
       "      <td>0</td>\n",
       "      <td>0</td>\n",
       "      <td>0</td>\n",
       "      <td>0</td>\n",
       "      <td>0</td>\n",
       "      <td>0.0</td>\n",
       "    </tr>\n",
       "    <tr>\n",
       "      <th>132</th>\n",
       "      <td>3</td>\n",
       "      <td>0</td>\n",
       "      <td>0</td>\n",
       "      <td>0</td>\n",
       "      <td>0</td>\n",
       "      <td>0</td>\n",
       "      <td>0</td>\n",
       "      <td>0</td>\n",
       "      <td>0</td>\n",
       "      <td>0</td>\n",
       "      <td>0.0</td>\n",
       "    </tr>\n",
       "    <tr>\n",
       "      <th>84</th>\n",
       "      <td>3</td>\n",
       "      <td>0</td>\n",
       "      <td>0</td>\n",
       "      <td>0</td>\n",
       "      <td>0</td>\n",
       "      <td>0</td>\n",
       "      <td>0</td>\n",
       "      <td>0</td>\n",
       "      <td>0</td>\n",
       "      <td>0</td>\n",
       "      <td>0.0</td>\n",
       "    </tr>\n",
       "    <tr>\n",
       "      <th>111</th>\n",
       "      <td>3</td>\n",
       "      <td>0</td>\n",
       "      <td>0</td>\n",
       "      <td>0</td>\n",
       "      <td>0</td>\n",
       "      <td>0</td>\n",
       "      <td>0</td>\n",
       "      <td>0</td>\n",
       "      <td>0</td>\n",
       "      <td>0</td>\n",
       "      <td>0.0</td>\n",
       "    </tr>\n",
       "    <tr>\n",
       "      <th>117</th>\n",
       "      <td>3</td>\n",
       "      <td>0</td>\n",
       "      <td>0</td>\n",
       "      <td>0</td>\n",
       "      <td>0</td>\n",
       "      <td>0</td>\n",
       "      <td>0</td>\n",
       "      <td>0</td>\n",
       "      <td>0</td>\n",
       "      <td>0</td>\n",
       "      <td>0.0</td>\n",
       "    </tr>\n",
       "    <tr>\n",
       "      <th>78</th>\n",
       "      <td>1</td>\n",
       "      <td>0</td>\n",
       "      <td>0</td>\n",
       "      <td>0</td>\n",
       "      <td>0</td>\n",
       "      <td>0</td>\n",
       "      <td>0</td>\n",
       "      <td>0</td>\n",
       "      <td>0</td>\n",
       "      <td>0</td>\n",
       "      <td>0.0</td>\n",
       "    </tr>\n",
       "    <tr>\n",
       "      <th>73</th>\n",
       "      <td>1</td>\n",
       "      <td>0</td>\n",
       "      <td>0</td>\n",
       "      <td>0</td>\n",
       "      <td>0</td>\n",
       "      <td>0</td>\n",
       "      <td>0</td>\n",
       "      <td>0</td>\n",
       "      <td>0</td>\n",
       "      <td>0</td>\n",
       "      <td>0.0</td>\n",
       "    </tr>\n",
       "  </tbody>\n",
       "</table>\n",
       "</div>"
      ],
      "text/plain": [
       "     Airline Company  Flight Code  Departure Time  Source City  Arrival Time  \\\n",
       "9                  4            0               0            0             0   \n",
       "119                2            0               0            0             0   \n",
       "100                1            0               0            0             0   \n",
       "133                3            0               0            0             0   \n",
       "132                3            0               0            0             0   \n",
       "84                 3            0               0            0             0   \n",
       "111                3            0               0            0             0   \n",
       "117                3            0               0            0             0   \n",
       "78                 1            0               0            0             0   \n",
       "73                 1            0               0            0             0   \n",
       "\n",
       "     Destination City  Duration  Total Stops  Price  Price_actual  Price_pred  \n",
       "9                   0         0            0      0             0         0.0  \n",
       "119                 0         0            0      0             0         0.0  \n",
       "100                 0         0            0      0             0         0.0  \n",
       "133                 0         0            0      0             0         0.0  \n",
       "132                 0         0            0      0             0         0.0  \n",
       "84                  0         0            0      0             0         0.0  \n",
       "111                 0         0            0      0             0         0.0  \n",
       "117                 0         0            0      0             0         0.0  \n",
       "78                  0         0            0      0             0         0.0  \n",
       "73                  0         0            0      0             0         0.0  "
      ]
     },
     "execution_count": 81,
     "metadata": {},
     "output_type": "execute_result"
    }
   ],
   "source": [
    "result.sample(10)"
   ]
  },
  {
   "cell_type": "code",
   "execution_count": 82,
   "id": "a42944a6",
   "metadata": {},
   "outputs": [],
   "source": [
    "# hyperparameter tuning\n",
    "from sklearn.model_selection import GridSearchCV\n",
    "grid_param = {\n",
    "      'max_depth' : range(4,8),\n",
    "      'min_sample_split' : range(2,8,2),\n",
    "      'learning_rate' : np.arange(0.1,0.3)\n",
    "}"
   ]
  },
  {
   "cell_type": "code",
   "execution_count": 83,
   "id": "0b14a91d",
   "metadata": {},
   "outputs": [
    {
     "name": "stdout",
     "output_type": "stream",
     "text": [
      "The accuracy of the Random Forest Model is  1.0\n"
     ]
    }
   ],
   "source": [
    "from sklearn.ensemble import RandomForestClassifier\n",
    "randomforest = RandomForestClassifier()\n",
    "randomforest.fit(x_train, y_train)\n",
    "#y_pred=randomforest.predict(x_test)\n",
    "score_randomforest = randomforest.score(x_test, y_test)\n",
    "print('The accuracy of the Random Forest Model is ', score_randomforest)"
   ]
  },
  {
   "cell_type": "code",
   "execution_count": 84,
   "id": "ea43c7c7",
   "metadata": {},
   "outputs": [
    {
     "name": "stdout",
     "output_type": "stream",
     "text": [
      "The accuracy of the KNN Model is 1.0\n"
     ]
    }
   ],
   "source": [
    "from sklearn.neighbors import KNeighborsClassifier\n",
    "knn=KNeighborsClassifier()\n",
    "knn.fit(x_train, y_train)\n",
    "#y_pred=knn.predict(x_test)\n",
    "score_knn=knn.score(x_test,y_test)\n",
    "print('The accuracy of the KNN Model is' , score_knn)"
   ]
  },
  {
   "cell_type": "markdown",
   "id": "558883ce",
   "metadata": {},
   "source": [
    "# "
   ]
  },
  {
   "cell_type": "markdown",
   "id": "b32818e4",
   "metadata": {},
   "source": [
    "# THANK YOU"
   ]
  }
 ],
 "metadata": {
  "kernelspec": {
   "display_name": "Python 3 (ipykernel)",
   "language": "python",
   "name": "python3"
  },
  "language_info": {
   "codemirror_mode": {
    "name": "ipython",
    "version": 3
   },
   "file_extension": ".py",
   "mimetype": "text/x-python",
   "name": "python",
   "nbconvert_exporter": "python",
   "pygments_lexer": "ipython3",
   "version": "3.9.12"
  }
 },
 "nbformat": 4,
 "nbformat_minor": 5
}
